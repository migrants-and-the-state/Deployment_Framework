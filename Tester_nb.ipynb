{
 "cells": [
  {
   "cell_type": "markdown",
   "metadata": {},
   "source": [
    "## Test out llm inference"
   ]
  },
  {
   "cell_type": "code",
   "execution_count": 1,
   "metadata": {},
   "outputs": [
    {
     "name": "stderr",
     "output_type": "stream",
     "text": [
      "/Users/ajay/miniconda3/lib/python3.11/site-packages/tqdm/auto.py:21: TqdmWarning: IProgress not found. Please update jupyter and ipywidgets. See https://ipywidgets.readthedocs.io/en/stable/user_install.html\n",
      "  from .autonotebook import tqdm as notebook_tqdm\n"
     ]
    }
   ],
   "source": [
    "from metadata_extraction.run_llm_pipeline import Extraction"
   ]
  },
  {
   "cell_type": "code",
   "execution_count": 10,
   "metadata": {},
   "outputs": [
    {
     "name": "stderr",
     "output_type": "stream",
     "text": [
      "/Users/ajay/miniconda3/lib/python3.11/site-packages/spacy_llm/pipeline/llm.py:143: UserWarning: Task supports sharding, but model does not provide context length. Data won't be sharded, prompt might exceed the model's context length. Set context length in your config. If you think spacy-llm should provide the context length for this model automatically, report this to https://github.com/explosion/spacy-llm/issues.\n",
      "  warnings.warn(\n"
     ]
    }
   ],
   "source": [
    "ext_class = Extraction(\"./metadata_extraction/configs/fewshot_v2.cfg\", \"./metadata_extraction/configs/examples_g325a_2.yml\")"
   ]
  },
  {
   "cell_type": "code",
   "execution_count": 11,
   "metadata": {},
   "outputs": [
    {
     "data": {
      "text/plain": [
       "{'REVISION_DATE': ['REV. 4-1-67'],\n",
       " 'OMB_NUMBER': ['43-R436'],\n",
       " 'COUNTRY': ['UNITED STATES', 'CANADA', 'CHINA'],\n",
       " 'NATIONALITY': ['CHINESE'],\n",
       " 'STATE_CITY': ['CALIF.', 'LOS ANGELES', 'U.S.A.', 'CANTON', 'Los angeles'],\n",
       " 'EMPLOYER': ['SELF-EMPLOYED'],\n",
       " 'FORM_NUMBER': ['G-325A']}"
      ]
     },
     "execution_count": 11,
     "metadata": {},
     "output_type": "execute_result"
    }
   ],
   "source": [
    "ext_class.extract_metadata(\"\"\"\n",
    "FORM G-325 A REV. 4-1-67 Screened by 9/18/2023 FORM APPROVED T/C 24QUDGET BUREAU NO. 43-R436 BIOGRAPHIC UNITED STATES DEPARTMENT OF JUSTICE JAN 15 1969 INFORMATION Immigration and Naturalization Service (FAMILY NAME) (FIRST NAME) (MIDDLE NAME) MALE BIRTHDATE(MO-DAY-YR.) NATIONALITY DATE ALIEN REGISTRATION NO. WONG, BEN DONG FEMALE 1/22/1814 CHINESE (IF ANY A12 250 430 ALL OTHER NAMES USED CITY AND COUNTRY OF BIRTH SOCIAL SECURITY NO. (IF ANY) WONG, GUCK ON CANTON , CHINA 553-36-2579 FAMILY NAME FIRST NAME DATE, CITY AND COUNTRY OF BIRTH (IF KNOWN) CITY AND COUNTRY OF RESIDENCE FATHER WONG WEE DON DIED MOTHER (MAIDEN NAME) TOM GIM YEP - CANADA (RESIDENCE) was SPOUSE (IF NONE, so STATE) FAMILY NAME FIRST NAME BIRTHDATE CITY & COUNTRY OF BIRTH DATE OF MARRIAGE PLACE OF MARRIAGE (FOR WIFE, GIVE MAIDEN NAME) FONG SUEY GiN 7/28/15 CANTON, CHINA, CHINA FORMER SPOUSES (IF NONE, so STATE) FAMILY NAME (FOR WIFE. GIVE MAIDEN NAME) FIRST NAME BIRTHDATE DATE & PLACE OF MARRIAGE DATE AND PLACE OF TERMINATION OF MARRIAGE NONE APPLICANT'S RESIDENCE LAST FIVE YEARS. LIST PRESENT ADDRESS FIRST. FROM TO STREET AND NUMBER CITY PROVINCE OR STATE COUNTRY MONTH YEAR MONTH YEAR 1416 310 AVENUE LOS ANGELES CALIF. U.S.A. SEPT. 52 PRESENT TIME LAST FOREIGN RESIDENCE OF MORE THAN ONE YEAR IF NOT SHOWN ABOVE. (INCLUDE ALL INFORMATION REQUESTED ABOVE.) APPLICANT'S EMPLOYMENT LAST FIVE YEARS. (IF NONE, so STATE) LIST PRESENT EMPLOYMENT FIRST. FROM TO FULL NAME AND ADDRESS OF EMPLOYER OCCUPATION MONTH YEAR MONTH YEAR SELF-EMPLOYED 1800 W-8 ST. LAUNDRY JULY 41 PRESENT TIME LAST OCCUPATION ABROAD IF NOT SHOWN ABOVE. (INCLUDE ALL INFORMATION REQUESTED ABOVE.) THIS FORM IS SUBMITTED IN CONNECTION WITH APPLICATION FOR: IF YOUR NATIVE ALPHABET IS IN OTHER THAN ROMAN LETTERS. WRITE YOUR NAME IN NATURALIZATION ADJUSTMENT OF STATUS YOUR NATIVE ALPHABET IN THIS SPACE: OTHER (SPECIFY): PENALTIES: SEVERE PENALTIES ARE PROVIDED BY LAW FOR KNOWINGLY AND WILLFULLY FALSIFYING 11/6/68 OR CONCEALING A MATERIAL FACT. DATE Wing (SIGNATURE Ben OF APPLICANT OR Dong PETITIONER) COMPLETE THIS BOX (FAMILY NAME) (GIVEN NAME) (MIDDLE NAME) (ALIEN REGISTRATION NUMBER) WONG Ben Dong A12 250 430 (OTHER AGENCY USE) (INS USE) (daughter REFER no DATA in KE HUANG law (nee CH'EN) GEN-hsia LOS WHICH WAS SENT THE Los angeles (All-94-27a) etc. T/C - 249 11/10/69 (DATE) OFFICE OF INS ON local basis investigative fi : To check FB1 this reply is result of check of FILL records, request arrest to Identification Divident Dre submitted Water are necessary for positive Finger dis, 2) Rec. Br. FORM G-325A\n",
    "\"\"\")"
   ]
  },
  {
   "cell_type": "code",
   "execution_count": 12,
   "metadata": {},
   "outputs": [],
   "source": [
    "d = {}\n",
    "d['a'] = set()"
   ]
  },
  {
   "cell_type": "markdown",
   "metadata": {},
   "source": [
    "## Test out Classification Model"
   ]
  },
  {
   "cell_type": "code",
   "execution_count": 1,
   "metadata": {},
   "outputs": [
    {
     "name": "stderr",
     "output_type": "stream",
     "text": [
      "/Users/ajay/miniconda3/lib/python3.11/site-packages/tqdm/auto.py:21: TqdmWarning: IProgress not found. Please update jupyter and ipywidgets. See https://ipywidgets.readthedocs.io/en/stable/user_install.html\n",
      "  from .autonotebook import tqdm as notebook_tqdm\n"
     ]
    }
   ],
   "source": [
    "from classification_models.image.load_classifier import Pretrained_Image_Classifier\n"
   ]
  },
  {
   "cell_type": "code",
   "execution_count": 2,
   "metadata": {},
   "outputs": [
    {
     "name": "stdout",
     "output_type": "stream",
     "text": [
      "Metal Performance Shaders (MPS) is available on mac\n",
      "Loading a pretrained model + linear head\n"
     ]
    },
    {
     "name": "stderr",
     "output_type": "stream",
     "text": [
      "Using cache found in /Users/ajay/.cache/torch/hub/facebookresearch_dinov2_main\n",
      "/Users/ajay/.cache/torch/hub/facebookresearch_dinov2_main/dinov2/layers/swiglu_ffn.py:51: UserWarning: xFormers is not available (SwiGLU)\n",
      "  warnings.warn(\"xFormers is not available (SwiGLU)\")\n",
      "/Users/ajay/.cache/torch/hub/facebookresearch_dinov2_main/dinov2/layers/attention.py:33: UserWarning: xFormers is not available (Attention)\n",
      "  warnings.warn(\"xFormers is not available (Attention)\")\n",
      "/Users/ajay/.cache/torch/hub/facebookresearch_dinov2_main/dinov2/layers/block.py:40: UserWarning: xFormers is not available (Block)\n",
      "  warnings.warn(\"xFormers is not available (Block)\")\n"
     ]
    }
   ],
   "source": [
    "model_class = Pretrained_Image_Classifier(\"linear_layer.pth\")\n"
   ]
  },
  {
   "cell_type": "code",
   "execution_count": 3,
   "metadata": {},
   "outputs": [],
   "source": [
    "output, features = model_class.inference(\"https://d1b7k5w7yjwpfg.cloudfront.net/iiif/2/migrants-state_A10001331_0001/full/full/0/default.jpg\")"
   ]
  },
  {
   "cell_type": "code",
   "execution_count": 4,
   "metadata": {},
   "outputs": [
    {
     "data": {
      "text/plain": [
       "(torch.Size([1, 4]), torch.Size([1, 1536]))"
      ]
     },
     "execution_count": 4,
     "metadata": {},
     "output_type": "execute_result"
    }
   ],
   "source": [
    "output.shape, features.shape"
   ]
  },
  {
   "cell_type": "code",
   "execution_count": 8,
   "metadata": {},
   "outputs": [
    {
     "data": {
      "text/plain": [
       "tensor(0)"
      ]
     },
     "execution_count": 8,
     "metadata": {},
     "output_type": "execute_result"
    }
   ],
   "source": [
    "import torch\n",
    "torch.argmax(output)"
   ]
  },
  {
   "cell_type": "markdown",
   "metadata": {},
   "source": [
    "## Test out certificate of Naturalization "
   ]
  },
  {
   "cell_type": "code",
   "execution_count": 2,
   "metadata": {},
   "outputs": [],
   "source": [
    "from misc_techniques import detect_cert_nat"
   ]
  },
  {
   "cell_type": "code",
   "execution_count": 12,
   "metadata": {},
   "outputs": [],
   "source": [
    "cert_nat_image, cert_nat_text = detect_cert_nat.load_template_embeddings()"
   ]
  },
  {
   "cell_type": "markdown",
   "metadata": {},
   "source": [
    "### If Embeddings are present"
   ]
  },
  {
   "cell_type": "code",
   "execution_count": 13,
   "metadata": {},
   "outputs": [],
   "source": [
    "image_embeddings = detect_cert_nat.init_image_embeddings(\"/Users/ajay/Documents/Oncampus/TrainingFramework/Newer/Model_Trainer/data/parallel_results.pkl\")\n",
    "text_embeddings = detect_cert_nat.init_text_embeddings(\"/Users/ajay/Documents/Oncampus/TrainingFramework/text_embeddings_textract.pkl\")"
   ]
  },
  {
   "cell_type": "code",
   "execution_count": 15,
   "metadata": {},
   "outputs": [
    {
     "data": {
      "text/plain": [
       "1"
      ]
     },
     "execution_count": 15,
     "metadata": {},
     "output_type": "execute_result"
    }
   ],
   "source": [
    "i = 3 \n",
    "image_cosine_sim = detect_cert_nat.compute_cosine_similarity_scores_from_pkls([i], cert_nat_image, image_embeddings, mode='pkl')\n",
    "text_cosine_sim = detect_cert_nat.compute_cosine_similarity_scores_from_pkls([i], cert_nat_text, text_embeddings, mode='pkl')\n",
    "\n",
    "detect_cert_nat.verify_cert_nat(text_cosine_sim, image_cosine_sim)"
   ]
  },
  {
   "cell_type": "markdown",
   "metadata": {},
   "source": [
    "### If Embeddings aren't Present"
   ]
  },
  {
   "cell_type": "code",
   "execution_count": 14,
   "metadata": {},
   "outputs": [],
   "source": [
    "piece_of_text = \"\"\"'Copied at the National Archives at Kansas City DUPLICATE TO BE FORWARDED TO No. 8050754 IMMIGRATION AND INATURALIZATION SERVICE Pelition no 17603 Personal description, of holder as of Date of birth April 23. 1878 sex M ; complexion fair colorsheries grey color of hair grey height 5 fees 7 inches; weight 163 pounds; visible distinctive marks wart corner left eye Maritalstatus married ed to less formerly Russia I certify that the description, above given is have and that a likeness of me. Sun sign Wladmins Fedowosth Love Complete and truce signature of holder) State of New York } SS: County of Albany Beitknown, that at a termofthe Supreme Court of New York, Albany County held pursuantly, lawal Albany, New York on June 15, 1961 the Court havingfoundshal Wladimir Fedorovich Livin then residing at 22 Forest Dr Albany New York inlends loveside permanentlyin the United States when sorrequired by the naturalization Laws of he United. States), had in callotherrespects, complied with the applicable provisions of such nahuralizeation laws, and was entilled to be Seal admilled docilizenship thereupon ordered that such person be and(s)hewas admilled as a cilizer of the United States of America. Indestimony whereofthesealofthe courtis hereunto, officed this 15th day of June in the year of own Lord nineteen hundred and Sixty-one and of our. Independence the one hundred and Eighty-fifth Breadd L. Linch punishable Insuriolation as such) to copypain., of the u. S. Code photograph. land Clerk of the Supreme Court. or otherwise illegally use this certificate. By Francle missuff Deputy Clerk.'\n",
    "\"\"\"\n",
    "url = 'https://d1b7k5w7yjwpfg.cloudfront.net/iiif/2/migrants-state_A10001331_0003/full/full/0/default.jpg'\n",
    "\n"
   ]
  },
  {
   "cell_type": "code",
   "execution_count": 16,
   "metadata": {},
   "outputs": [
    {
     "name": "stdout",
     "output_type": "stream",
     "text": [
      "Metal Performance Shaders (MPS) is available on mac\n",
      "Loading a pretrained model + linear head\n"
     ]
    },
    {
     "name": "stderr",
     "output_type": "stream",
     "text": [
      "Using cache found in /Users/ajay/.cache/torch/hub/facebookresearch_dinov2_main\n",
      "/Users/ajay/.cache/torch/hub/facebookresearch_dinov2_main/dinov2/layers/swiglu_ffn.py:51: UserWarning: xFormers is not available (SwiGLU)\n",
      "  warnings.warn(\"xFormers is not available (SwiGLU)\")\n",
      "/Users/ajay/.cache/torch/hub/facebookresearch_dinov2_main/dinov2/layers/attention.py:33: UserWarning: xFormers is not available (Attention)\n",
      "  warnings.warn(\"xFormers is not available (Attention)\")\n",
      "/Users/ajay/.cache/torch/hub/facebookresearch_dinov2_main/dinov2/layers/block.py:40: UserWarning: xFormers is not available (Block)\n",
      "  warnings.warn(\"xFormers is not available (Block)\")\n"
     ]
    }
   ],
   "source": [
    "from classification_models.image.load_classifier import Pretrained_Image_Classifier\n",
    "image_model = Pretrained_Image_Classifier(\"linear_layer.pth\")\n",
    "text_model = detect_cert_nat.init_text_model()\n"
   ]
  },
  {
   "cell_type": "code",
   "execution_count": 19,
   "metadata": {},
   "outputs": [
    {
     "data": {
      "text/plain": [
       "1"
      ]
     },
     "execution_count": 19,
     "metadata": {},
     "output_type": "execute_result"
    }
   ],
   "source": [
    "image_cosine_sim = detect_cert_nat.compute_cosine_similarity_scores_from_pkls([url], cert_nat_image, None, image_model, mode='image_model')\n",
    "text_cosine_sim = detect_cert_nat.compute_cosine_similarity_scores_from_pkls([piece_of_text], cert_nat_text, None, text_model, mode='text_model')\n",
    "\n",
    "detect_cert_nat.verify_cert_nat(text_cosine_sim, image_cosine_sim)"
   ]
  },
  {
   "cell_type": "markdown",
   "metadata": {},
   "source": [
    "## Detecting if a certain text is a form G-325A"
   ]
  },
  {
   "cell_type": "code",
   "execution_count": 1,
   "metadata": {},
   "outputs": [],
   "source": [
    "from misc_techniques.detect_G325A import detect_g325av5 "
   ]
  },
  {
   "cell_type": "code",
   "execution_count": 2,
   "metadata": {},
   "outputs": [
    {
     "data": {
      "text/plain": [
       "0"
      ]
     },
     "execution_count": 2,
     "metadata": {},
     "output_type": "execute_result"
    }
   ],
   "source": [
    "text = \"\"\"Screened by NARA, 9/20/2022 NOTICE TO PERSONS FILING FOR SPOUSES IF MARRIED LESS THAN TWO YEARS Pursuant to section 216 of the Immigration and Nationality Act, your alien spouse may be granted conditional permanent resident status in the United States as of the date he or she is admitted or adjusted to conditional status by an officer of the Immigration and Naturalization Service. Both you and your conditional permanent resident spouse are required to file a petition, Form I-751, Joint Petition to Remove Conditional Basis of Alien's Permanent Resident Status, during the ninety day period immediately before the second anniversary of the date your alien spouse was granted conditional permanent residence. Otherwise, the rights, privileges, responsibilities and duties which apply to all other permanent residents apply equally to a conditional permanent resident. A conditional permanent resident is not limited to the right to apply for naturalization, to file petitions in behalf of qualifying relatives, or to reside permanently in the United States as an immigrant in accordance with the immigration laws. Failure to file Form I-751, Joint Petition to Remove the Conditional Basis of Alien's Permanent Resident Status, will result in termination of permanent residence status and initiation of deportation proceedings. NOTE: You must complete Items 1 through 6 to assure that petition approval is recorded. Do not write in the section below item 6. 1. Name of relative (Family name in CAPS) (First) (Middle) CHECKLIST ISNARDY MARGUERITE 2. Other names used by relative (Including maiden name) Have you answered each ISNARDY MARGUERITE question? 3. Country of relative's birth 4. Date of relative's birth (Month/Day/Year) Port Au Prince Haiti 05/06/ 1905 Have you signed the petition? Have you enclosed: 5. Your name (Last name in CAPS) (First) (Middle) HONORE ROSANA (617 17-282-8630 282 Your phone number * The filing fee for each SECTION DATE PETITION FILED petition? Action Stamp 201 (b)(spouse) Proof of your citizenship or 201 (b)(child) lawful permanent residence? XX (b)(parent) All required supporting 203 (a)(1) STATESIDE documents for each petition? 203 (a)(2) CRITERIA GRANTED 203 (a)(4) If you are filing for your 203 (a)(5) SENT TO CONSUL AT; husband or wife have you included: Your picture? His or herpicture? Your G-325A? His or her G-325A? Relative Petition Card Form I-130 (Rev. 10/13/98)N\"\"\"\n",
    "\n",
    "detect_g325av5(text)\n"
   ]
  },
  {
   "cell_type": "code",
   "execution_count": 3,
   "metadata": {},
   "outputs": [
    {
     "data": {
      "text/plain": [
       "1"
      ]
     },
     "execution_count": 3,
     "metadata": {},
     "output_type": "execute_result"
    }
   ],
   "source": [
    "text = \"\"\"U.S. Department of Justice FORM G-325A OMB No. 1115-0066 Immigration and Naturalization Service BIOGRAPHIC INFORMATION Approval expires 4-30-85 (Family name) (First name) (Middle name) MALE BIRTHDATE(Mo.-Day-Yr.) NATIONALITY / FILE NUMBER De IA HOYA Vicente SANches FEMALE 5-12-12 MEXICANA 410-534-184 ALL OTHER NAMES USED (Including names by previous marriages) CITY AND COUNTRY OF BIRTH SOCIAL SECURITY NO. DuraNGO MEXICO (If any) 457-40-4959 FAMILY NAME FIRST NAME DATE, CITY AND COUNTRY OF BIRTH(If known) CITY AND COUNTRY OF RESIDENCE FATHER De IA HOYA ENrique Durango MEXICO (D) MOTHER (Maiden name) SANChe's CONSTANZA Durango MEXICO ( D ) HUSBAND (If none, so state) FAMILY NAME FIRST NAME BIRTHDATE CITY & COUNTRY OF BIRTH DATE OF MARRIAGE PLACE OF MARRIAGE OR (For wife, give maiden name) WIFE De , IA HOYA Torres DoLores 3-15-40 NAYAVIT MEX Lurs-B.S 10-26-72 SONOTA FORMER HUSBANDS OR WIVES(if none,s state) FAMILY NAME (For wife, give maiden name) FIRST NAME BIRTHDATE DATE & PLACE OF MARRIAGE DATE AND PLACE OF TERMINATION OF MARRIAGE SALAS GuAdeLupe 12-8-20 Duranco MEX 7-15-60 APPLICANT'S RESIDENCE LAST FIVE YEARS. LIST PRESENT ADDRESS FIRST. FROM TO STREET AND NUMBER CITY PROVINCE OR STATE COUNTRY MONTH YEAR MONTH YEAR ChihuahuA #139 MEXICAL B- CALIF MEXICO 3 65 PRESENT TIME APPLICANT'S LAST ADDRESS OUTSIDE THE UNITED STATES OF MORE THAN ONE YEAR FROM TO STREET AND NUMBER CITY PROVINCE OR STATE COUNTRY MONTH YEAR MONTH YEAR APPLICANT'S EMPLOYMENT LAST FIVE YEARS. (IF NONE, so STATE.) LIST PRESENT EMPLOYMENT FIRST FROM TO FULL NAME AND ADDRESS OF EMPLOYER OCCUPATION (SPECIFY) MONTH YEAR MONTH YEAR E. and L. AVILA Trucking LAbor 6 83 PRESENT TIME Browley CAL. watch MEN 8-15 85 Show below last occupation abroad if not shown above. (Include all information requested above.) THIS FORM IS SUBMITTED IN CONNECTION WITH APPLICATION FOR: SIGNATURE OF APPLICANT DATE NATURALIZATION STATUS AS PERMANENT RESIDENT OTHER (SPECIFY): Vicente dela Hoyan S. 3-31-88 IF YOUR NATIVE ALPHABET is IN OTHER THAN ROMAN LETTERS WRITE YOUR NAME IN YOUR NATIVE ALPHABET IN THIS SPACE Are all copies legible? Yes PENALTIES: SEVERE PENALTIES ARE PROVIDED BY LAW FOR KNOWINGLY AND WILLFULLY FALSIFYING OR CONCEALING A MATERIAL FACT. APPLICANT: BE SURE TO PUT YOUR NAME AND ALIEN REGISTRATION NUMBER IN THE BOX OUTLINED BY HEAVY BORDER BELOW. COMPLETE THIS BOX (Family name) (Given name) (Middle name) (Alien registration number) De LA HOYA ViceNTe SANChes A10-534-184 OFFICE: SND N-400 Form G-325 A (Rev. 10-1-82) DATE: (1) IDENT. MAY 03 1988\"\"\" \n",
    "detect_g325av5(text)\n"
   ]
  },
  {
   "cell_type": "markdown",
   "metadata": {},
   "source": [
    "## Year, Date (primarily) Extractor"
   ]
  },
  {
   "cell_type": "code",
   "execution_count": 1,
   "metadata": {},
   "outputs": [
    {
     "name": "stderr",
     "output_type": "stream",
     "text": [
      "/Users/ajay/miniconda3/lib/python3.11/site-packages/fuzzywuzzy/fuzz.py:11: UserWarning: Using slow pure-python SequenceMatcher. Install python-Levenshtein to remove this warning\n",
      "  warnings.warn('Using slow pure-python SequenceMatcher. Install python-Levenshtein to remove this warning')\n",
      "/Users/ajay/miniconda3/lib/python3.11/site-packages/tqdm/auto.py:21: TqdmWarning: IProgress not found. Please update jupyter and ipywidgets. See https://ipywidgets.readthedocs.io/en/stable/user_install.html\n",
      "  from .autonotebook import tqdm as notebook_tqdm\n"
     ]
    },
    {
     "name": "stdout",
     "output_type": "stream",
     "text": [
      "2024-04-25 09:18:46,616 SequenceTagger predicts: Dictionary with 76 tags: <unk>, O, B-CARDINAL, E-CARDINAL, S-PERSON, S-CARDINAL, S-PRODUCT, B-PRODUCT, I-PRODUCT, E-PRODUCT, B-WORK_OF_ART, I-WORK_OF_ART, E-WORK_OF_ART, B-PERSON, E-PERSON, S-GPE, B-DATE, I-DATE, E-DATE, S-ORDINAL, S-LANGUAGE, I-PERSON, S-EVENT, S-DATE, B-QUANTITY, E-QUANTITY, S-TIME, B-TIME, I-TIME, E-TIME, B-GPE, E-GPE, S-ORG, I-GPE, S-NORP, B-FAC, I-FAC, E-FAC, B-NORP, E-NORP, S-PERCENT, B-ORG, E-ORG, B-LANGUAGE, E-LANGUAGE, I-CARDINAL, I-ORG, S-WORK_OF_ART, I-QUANTITY, B-MONEY\n"
     ]
    }
   ],
   "source": [
    "from misc_techniques import flair_extract"
   ]
  },
  {
   "cell_type": "code",
   "execution_count": 2,
   "metadata": {},
   "outputs": [
    {
     "name": "stdout",
     "output_type": "stream",
     "text": [
      "printing dates ['9/20/2022', 'LESS THAN TWO YEARS', 'the ninety day', '05/06/ 1905', '10/13/98']\n"
     ]
    }
   ],
   "source": [
    "text = \"\"\"Screened by NARA, 9/20/2022 NOTICE TO PERSONS FILING FOR SPOUSES IF MARRIED LESS THAN TWO YEARS Pursuant to section 216 of the Immigration and Nationality Act, your alien spouse may be granted conditional permanent resident status in the United States as of the date he or she is admitted or adjusted to conditional status by an officer of the Immigration and Naturalization Service. Both you and your conditional permanent resident spouse are required to file a petition, Form I-751, Joint Petition to Remove Conditional Basis of Alien's Permanent Resident Status, during the ninety day period immediately before the second anniversary of the date your alien spouse was granted conditional permanent residence. Otherwise, the rights, privileges, responsibilities and duties which apply to all other permanent residents apply equally to a conditional permanent resident. A conditional permanent resident is not limited to the right to apply for naturalization, to file petitions in behalf of qualifying relatives, or to reside permanently in the United States as an immigrant in accordance with the immigration laws. Failure to file Form I-751, Joint Petition to Remove the Conditional Basis of Alien's Permanent Resident Status, will result in termination of permanent residence status and initiation of deportation proceedings. NOTE: You must complete Items 1 through 6 to assure that petition approval is recorded. Do not write in the section below item 6. 1. Name of relative (Family name in CAPS) (First) (Middle) CHECKLIST ISNARDY MARGUERITE 2. Other names used by relative (Including maiden name) Have you answered each ISNARDY MARGUERITE question? 3. Country of relative's birth 4. Date of relative's birth (Month/Day/Year) Port Au Prince Haiti 05/06/ 1905 Have you signed the petition? Have you enclosed: 5. Your name (Last name in CAPS) (First) (Middle) HONORE ROSANA (617 17-282-8630 282 Your phone number * The filing fee for each SECTION DATE PETITION FILED petition? Action Stamp 201 (b)(spouse) Proof of your citizenship or 201 (b)(child) lawful permanent residence? XX (b)(parent) All required supporting 203 (a)(1) STATESIDE documents for each petition? 203 (a)(2) CRITERIA GRANTED 203 (a)(4) If you are filing for your 203 (a)(5) SENT TO CONSUL AT; husband or wife have you included: Your picture? His or herpicture? Your G-325A? His or her G-325A? Relative Petition Card Form I-130 (Rev. 10/13/98)N\"\"\"\n",
    "\n",
    "output = flair_extract.extract_country_years(text)"
   ]
  },
  {
   "cell_type": "code",
   "execution_count": 3,
   "metadata": {},
   "outputs": [
    {
     "name": "stdout",
     "output_type": "stream",
     "text": [
      "dates -----------------\n",
      "['9/20/2022', '10/13/98']\n",
      "cardinals -----------------\n",
      "['216', '1', '6', '6.', '2', '4', '5', '201', '201', 'XX', '203', '1', '203', '2', '203', '4', '203', '5']\n",
      "places -----------------\n",
      "['the United States', 'the United States', 'Port Au Prince', 'Haiti']\n",
      "countries -----------------\n",
      "['Haiti', 'United States']\n",
      "years -----------------\n",
      "['2022', '1905']\n"
     ]
    }
   ],
   "source": [
    "for k,v in output.items():\n",
    "    print(k,\"-----------------\")\n",
    "    print(v)"
   ]
  },
  {
   "cell_type": "code",
   "execution_count": 4,
   "metadata": {},
   "outputs": [
    {
     "name": "stdout",
     "output_type": "stream",
     "text": [
      "printing dates ['LAST FIVE YEARS', 'MONTH YEAR', 'MONTH YEAR', 'MORE THAN ONE YEAR', 'MONTH YEAR', 'MONTH YEAR', 'FIVE YEARS', 'MONTH YEAR', 'MONTH YEAR', 'MAY 03 1988']\n",
      "dates -----------------\n",
      "[]\n",
      "cardinals -----------------\n",
      "['4-30-85', '3-15-40', '10-26-72', '12-8-20', '7-15-60', '139', '3', '65', '83', '10-1-82', '1']\n",
      "places -----------------\n",
      "['DuraNGO', 'MEXICO', 'Durango', 'MEXICO', 'Durango', 'MEXICO', 'Duranco', 'MEXICO', 'THE UNITED STATES']\n",
      "countries -----------------\n",
      "['Mexico', 'United States']\n",
      "years -----------------\n",
      "['1988']\n"
     ]
    }
   ],
   "source": [
    "text = \"\"\"U.S. Department of Justice FORM G-325A OMB No. 1115-0066 Immigration and Naturalization Service BIOGRAPHIC INFORMATION Approval expires 4-30-85 (Family name) (First name) (Middle name) MALE BIRTHDATE(Mo.-Day-Yr.) NATIONALITY / FILE NUMBER De IA HOYA Vicente SANches FEMALE 5-12-12 MEXICANA 410-534-184 ALL OTHER NAMES USED (Including names by previous marriages) CITY AND COUNTRY OF BIRTH SOCIAL SECURITY NO. DuraNGO MEXICO (If any) 457-40-4959 FAMILY NAME FIRST NAME DATE, CITY AND COUNTRY OF BIRTH(If known) CITY AND COUNTRY OF RESIDENCE FATHER De IA HOYA ENrique Durango MEXICO (D) MOTHER (Maiden name) SANChe's CONSTANZA Durango MEXICO ( D ) HUSBAND (If none, so state) FAMILY NAME FIRST NAME BIRTHDATE CITY & COUNTRY OF BIRTH DATE OF MARRIAGE PLACE OF MARRIAGE OR (For wife, give maiden name) WIFE De , IA HOYA Torres DoLores 3-15-40 NAYAVIT MEX Lurs-B.S 10-26-72 SONOTA FORMER HUSBANDS OR WIVES(if none,s state) FAMILY NAME (For wife, give maiden name) FIRST NAME BIRTHDATE DATE & PLACE OF MARRIAGE DATE AND PLACE OF TERMINATION OF MARRIAGE SALAS GuAdeLupe 12-8-20 Duranco MEX 7-15-60 APPLICANT'S RESIDENCE LAST FIVE YEARS. LIST PRESENT ADDRESS FIRST. FROM TO STREET AND NUMBER CITY PROVINCE OR STATE COUNTRY MONTH YEAR MONTH YEAR ChihuahuA #139 MEXICAL B- CALIF MEXICO 3 65 PRESENT TIME APPLICANT'S LAST ADDRESS OUTSIDE THE UNITED STATES OF MORE THAN ONE YEAR FROM TO STREET AND NUMBER CITY PROVINCE OR STATE COUNTRY MONTH YEAR MONTH YEAR APPLICANT'S EMPLOYMENT LAST FIVE YEARS. (IF NONE, so STATE.) LIST PRESENT EMPLOYMENT FIRST FROM TO FULL NAME AND ADDRESS OF EMPLOYER OCCUPATION (SPECIFY) MONTH YEAR MONTH YEAR E. and L. AVILA Trucking LAbor 6 83 PRESENT TIME Browley CAL. watch MEN 8-15 85 Show below last occupation abroad if not shown above. (Include all information requested above.) THIS FORM IS SUBMITTED IN CONNECTION WITH APPLICATION FOR: SIGNATURE OF APPLICANT DATE NATURALIZATION STATUS AS PERMANENT RESIDENT OTHER (SPECIFY): Vicente dela Hoyan S. 3-31-88 IF YOUR NATIVE ALPHABET is IN OTHER THAN ROMAN LETTERS WRITE YOUR NAME IN YOUR NATIVE ALPHABET IN THIS SPACE Are all copies legible? Yes PENALTIES: SEVERE PENALTIES ARE PROVIDED BY LAW FOR KNOWINGLY AND WILLFULLY FALSIFYING OR CONCEALING A MATERIAL FACT. APPLICANT: BE SURE TO PUT YOUR NAME AND ALIEN REGISTRATION NUMBER IN THE BOX OUTLINED BY HEAVY BORDER BELOW. COMPLETE THIS BOX (Family name) (Given name) (Middle name) (Alien registration number) De LA HOYA ViceNTe SANChes A10-534-184 OFFICE: SND N-400 Form G-325 A (Rev. 10-1-82) DATE: (1) IDENT. MAY 03 1988\"\"\" \n",
    "output = flair_extract.extract_country_years(text)\n",
    "\n",
    "for k,v in output.items():\n",
    "    print(k,\"-----------------\")\n",
    "    print(v)"
   ]
  },
  {
   "cell_type": "code",
   "execution_count": 1,
   "metadata": {},
   "outputs": [
    {
     "name": "stdout",
     "output_type": "stream",
     "text": [
      "/Users/ajay/Documents/Oncampus/Deployment_Framework\n"
     ]
    }
   ],
   "source": [
    "!pwd"
   ]
  },
  {
   "cell_type": "markdown",
   "metadata": {},
   "source": [
    "## Inference on a csv"
   ]
  },
  {
   "cell_type": "code",
   "execution_count": null,
   "metadata": {},
   "outputs": [],
   "source": [
    "import json \n",
    "import torch\n",
    "from tqdm import tqdm\n",
    "# from metadata_extraction.run_llm_pipeline import Extraction\n",
    "# from classification_models.image.load_classifier import Pretrained_Image_Classifier\n",
    "# import sys\n",
    "# module_path = \"/scratch/ag8172/Deployment_Framework/Misc_Techniques\"\n",
    "# sys.path.append(module_path)\n",
    "from Misc_Techniques import detect_cert_nat\n",
    "from Misc_Techniques.detect_G325A import detect_g325av5 \n",
    "from Misc_Techniques import flair_extract\n",
    "from metadata_extraction.run_llm_pipeline import Extraction\n",
    "from classification_models.image.load_classifier import Pretrained_Image_Classifier\n",
    "import pandas as pd \n",
    "import os\n",
    "\n",
    "df = pd.read_csv(\"/scratch/ag8172/combined_csv.csv\")\n",
    "# os.mkdir('/Users/ajay/Documents/Oncampus/TrainingFramework/metadata_outputs/') # make directory in scratch\n",
    "\n",
    "cert_nat_image, cert_nat_text = detect_cert_nat.load_template_embeddings()\n",
    "image_embeddings = detect_cert_nat.init_image_embeddings(\"/scratch/ag8172/parallel_results.pkl\")\n",
    "text_embeddings = detect_cert_nat.init_text_embeddings(\"/scratch/ag8172/text_embeddings_textract.pkl\")\n",
    "\n",
    "model_class = Pretrained_Image_Classifier(\"linear_layer.pth\")\n",
    "ext_class = Extraction(\"./metadata_extraction/configs/fewshot_v2.cfg\", \"./metadata_extraction/configs/examples_g325a_2.yml\")\n",
    "\n",
    "model_inf_map = {0:'form',1:'letter',2:'photograph',3:'misc'}\n",
    "\n",
    "\n",
    "''' \n",
    "model_inf_map = {0:'form',1:'letter',2:'photo',3:'misc'}\n",
    "for each url:\n",
    "        run inference, get class\n",
    "        {'document_type': model_inf_map[output]}\n",
    "        if doc not photograph or misc:\n",
    "                get text       \n",
    "                check certnat\n",
    "                if certnat:\n",
    "                        {'is_cert_nat':1}\n",
    "                elif g325a:\n",
    "                        {'is_g325a':True}\n",
    "                        invoke llm\n",
    "                        {'llm_<attribute>':}\n",
    "\n",
    "                run generalextraction with text\n",
    "                {<attribute>}\n",
    "                \n",
    "'''\n",
    "error_log_path = \"/scratch/ag8172/error_log.txt\"\n",
    "error_noocr_path = \"/scratch/ag8172/no_ocr_log.txt\"\n",
    "for i in tqdm(df.index.tolist()[24028:]):\n",
    "        try:\n",
    "                document_wise_result = dict()\n",
    "                url = df.iloc[i]['url']\n",
    "                filename = str(i) + \"_\" + \"_\".join(df.iloc[i]['url'].split('/')[5].split('_')[1:]) + \".json\"\n",
    "                filename = os.path.join(\"/scratch/ag8172/metadata_outputs/\", filename)\n",
    "                output, features = model_class.inference(url)\n",
    "                document_wise_result['document_type'] = model_inf_map[torch.argmax(output).item()]\n",
    "                document_wise_result['is_g325a'] = False\n",
    "                document_wise_result['is_cert_naturalization'] = False \n",
    "                if document_wise_result['document_type'] not in ['photograph','misc']:\n",
    "                        # get text\n",
    "                        # text was concatenated strings obtained from aws textract\n",
    "                        text = df.iloc[i]['Detected Text']\n",
    "                        if not isinstance(text,float):\n",
    "                                \n",
    "                                image_cosine_sim = detect_cert_nat.compute_cosine_similarity_scores_from_pkls([i], cert_nat_image, image_embeddings, mode='pkl')\n",
    "                                text_cosine_sim = detect_cert_nat.compute_cosine_similarity_scores_from_pkls([i], cert_nat_text, text_embeddings, mode='pkl')\n",
    "                                is_cert_nat = detect_cert_nat.verify_cert_nat(text_cosine_sim, image_cosine_sim)\n",
    "                                if is_cert_nat:\n",
    "                                        document_wise_result['is_cert_naturalization'] = True\n",
    "                                else:\n",
    "                                        document_wise_result['is_cert_naturalization'] = False \n",
    "                                \n",
    "                                is_g325a = detect_g325av5(text)\n",
    "                                document_wise_result['g325a_attributes'] = dict()\n",
    "                                if is_g325a:\n",
    "                                        document_wise_result['is_g325a'] = True\n",
    "                                        output = ext_class.extract_metadata(f\"\"\"{text}\"\"\")\n",
    "                                        document_wise_result['g325a_attributes'] = dict()\n",
    "                                        for k,v in output.items():\n",
    "                                                document_wise_result['g325a_attributes']['LLM_'+k] = v\n",
    "\n",
    "                                else:\n",
    "                                        document_wise_result['is_g325a'] = False\n",
    "                                \n",
    "                                output = flair_extract.extract_country_years(text)\n",
    "                                document_wise_result['countries'] = output['countries']\n",
    "                                document_wise_result['years'] = output['years']\n",
    "                        else:\n",
    "                                with open(error_noocr_path, \"a\") as error_log_file:\n",
    "                                        error_log_file.write(f\"{i}, OCR Content Absent\\n\")\n",
    "                with open(filename, \"w\") as json_file:\n",
    "                        json.dump(document_wise_result, json_file)\n",
    "        except Exception as e:\n",
    "                with open(error_log_path, \"a\") as error_log_file:\n",
    "                        error_log_file.write(f\"{i}, {str(e)}\\n\")\n",
    "                print(\"Exception occurred for\", i, e)\n",
    "\n",
    "        \n",
    "\n"
   ]
  },
  {
   "cell_type": "markdown",
   "metadata": {},
   "source": [
    "## Analysis on the documents"
   ]
  },
  {
   "cell_type": "code",
   "execution_count": 38,
   "metadata": {},
   "outputs": [
    {
     "data": {
      "text/plain": [
       "(565, 118, 6303)"
      ]
     },
     "execution_count": 38,
     "metadata": {},
     "output_type": "execute_result"
    }
   ],
   "source": [
    "import os \n",
    "import json\n",
    "\n",
    "extracted_output_path = \"/Users/ajay/Documents/Oncampus/TrainingFramework/extracted_metadata/metadata_outputs\"\n",
    "g325a = list()\n",
    "certnat = list()\n",
    "ocrfail = list()\n",
    "def read_json(path):\n",
    "    with open(os.path.join(extracted_output_path,path), 'r') as json_file:\n",
    "        # Load the data from the file\n",
    "        data = json.load(json_file)\n",
    "    return data\n",
    "\n",
    "for path in os.listdir(extracted_output_path):\n",
    "    \n",
    "    data = read_json(path)\n",
    "    if data.get('is_cert_naturalization',None):\n",
    "        certnat.append([int(path.split(\"_\")[0]),path])\n",
    "    if data.get('is_g325a',None):\n",
    "        g325a.append([int(path.split(\"_\")[0]),path])\n",
    "\n",
    "    if data.get('is_cert_naturalization',None) is None:\n",
    "        ocrfail.append([int(path.split(\"_\")[0]),path])\n",
    "\n",
    "len(g325a),len(certnat), len(ocrfail)"
   ]
  },
  {
   "cell_type": "code",
   "execution_count": 39,
   "metadata": {},
   "outputs": [
    {
     "data": {
      "text/html": [
       "<div>\n",
       "<style scoped>\n",
       "    .dataframe tbody tr th:only-of-type {\n",
       "        vertical-align: middle;\n",
       "    }\n",
       "\n",
       "    .dataframe tbody tr th {\n",
       "        vertical-align: top;\n",
       "    }\n",
       "\n",
       "    .dataframe thead th {\n",
       "        text-align: right;\n",
       "    }\n",
       "</style>\n",
       "<table border=\"1\" class=\"dataframe\">\n",
       "  <thead>\n",
       "    <tr style=\"text-align: right;\">\n",
       "      <th></th>\n",
       "      <th>Afile</th>\n",
       "      <th>Page</th>\n",
       "      <th>Is_Redacted</th>\n",
       "      <th>url</th>\n",
       "      <th>Detected Text</th>\n",
       "      <th>Ocr_Dump_path</th>\n",
       "      <th>idx</th>\n",
       "    </tr>\n",
       "  </thead>\n",
       "  <tbody>\n",
       "    <tr>\n",
       "      <th>0</th>\n",
       "      <td>A10001331</td>\n",
       "      <td>0</td>\n",
       "      <td>False</td>\n",
       "      <td>https://d1b7k5w7yjwpfg.cloudfront.net/iiif/2/m...</td>\n",
       "      <td>For citation purposes: Records Copied at the N...</td>\n",
       "      <td>/Users/ajay/Documents/Oncampus/TrainingFramewo...</td>\n",
       "      <td>0</td>\n",
       "    </tr>\n",
       "    <tr>\n",
       "      <th>1</th>\n",
       "      <td>A10001331</td>\n",
       "      <td>1</td>\n",
       "      <td>False</td>\n",
       "      <td>https://d1b7k5w7yjwpfg.cloudfront.net/iiif/2/m...</td>\n",
       "      <td>Name (Last In CAPS) First Middle File No. 150 ...</td>\n",
       "      <td>/Users/ajay/Documents/Oncampus/TrainingFramewo...</td>\n",
       "      <td>1</td>\n",
       "    </tr>\n",
       "    <tr>\n",
       "      <th>2</th>\n",
       "      <td>A10001331</td>\n",
       "      <td>2</td>\n",
       "      <td>False</td>\n",
       "      <td>https://d1b7k5w7yjwpfg.cloudfront.net/iiif/2/m...</td>\n",
       "      <td>SERVED SERVICE Pigst 8.48 MAR-2</td>\n",
       "      <td>/Users/ajay/Documents/Oncampus/TrainingFramewo...</td>\n",
       "      <td>2</td>\n",
       "    </tr>\n",
       "    <tr>\n",
       "      <th>3</th>\n",
       "      <td>A10001331</td>\n",
       "      <td>3</td>\n",
       "      <td>False</td>\n",
       "      <td>https://d1b7k5w7yjwpfg.cloudfront.net/iiif/2/m...</td>\n",
       "      <td>Copied at the National Archives at Kansas City...</td>\n",
       "      <td>/Users/ajay/Documents/Oncampus/TrainingFramewo...</td>\n",
       "      <td>3</td>\n",
       "    </tr>\n",
       "    <tr>\n",
       "      <th>4</th>\n",
       "      <td>A10001331</td>\n",
       "      <td>4</td>\n",
       "      <td>False</td>\n",
       "      <td>https://d1b7k5w7yjwpfg.cloudfront.net/iiif/2/m...</td>\n",
       "      <td>UNITED STATES DEPARTMENT OF JUSTICE Form appro...</td>\n",
       "      <td>/Users/ajay/Documents/Oncampus/TrainingFramewo...</td>\n",
       "      <td>4</td>\n",
       "    </tr>\n",
       "  </tbody>\n",
       "</table>\n",
       "</div>"
      ],
      "text/plain": [
       "       Afile  Page  Is_Redacted  \\\n",
       "0  A10001331     0        False   \n",
       "1  A10001331     1        False   \n",
       "2  A10001331     2        False   \n",
       "3  A10001331     3        False   \n",
       "4  A10001331     4        False   \n",
       "\n",
       "                                                 url  \\\n",
       "0  https://d1b7k5w7yjwpfg.cloudfront.net/iiif/2/m...   \n",
       "1  https://d1b7k5w7yjwpfg.cloudfront.net/iiif/2/m...   \n",
       "2  https://d1b7k5w7yjwpfg.cloudfront.net/iiif/2/m...   \n",
       "3  https://d1b7k5w7yjwpfg.cloudfront.net/iiif/2/m...   \n",
       "4  https://d1b7k5w7yjwpfg.cloudfront.net/iiif/2/m...   \n",
       "\n",
       "                                       Detected Text  \\\n",
       "0  For citation purposes: Records Copied at the N...   \n",
       "1  Name (Last In CAPS) First Middle File No. 150 ...   \n",
       "2                    SERVED SERVICE Pigst 8.48 MAR-2   \n",
       "3  Copied at the National Archives at Kansas City...   \n",
       "4  UNITED STATES DEPARTMENT OF JUSTICE Form appro...   \n",
       "\n",
       "                                       Ocr_Dump_path  idx  \n",
       "0  /Users/ajay/Documents/Oncampus/TrainingFramewo...    0  \n",
       "1  /Users/ajay/Documents/Oncampus/TrainingFramewo...    1  \n",
       "2  /Users/ajay/Documents/Oncampus/TrainingFramewo...    2  \n",
       "3  /Users/ajay/Documents/Oncampus/TrainingFramewo...    3  \n",
       "4  /Users/ajay/Documents/Oncampus/TrainingFramewo...    4  "
      ]
     },
     "execution_count": 39,
     "metadata": {},
     "output_type": "execute_result"
    }
   ],
   "source": [
    "import pandas as pd \n",
    "\n",
    "df = pd.read_csv(\"/Users/ajay/Documents/Oncampus/TrainingFramework/combined_csv.csv\")\n",
    "df.head()"
   ]
  },
  {
   "cell_type": "code",
   "execution_count": 40,
   "metadata": {},
   "outputs": [
    {
     "data": {
      "text/plain": [
       "[14894, '14894_A34140438_redacted_0042.json']"
      ]
     },
     "execution_count": 40,
     "metadata": {},
     "output_type": "execute_result"
    }
   ],
   "source": [
    "ocrfail[0]"
   ]
  },
  {
   "cell_type": "code",
   "execution_count": 52,
   "metadata": {},
   "outputs": [],
   "source": [
    "dffail = df.iloc[[x[0] for x in ocrfail],:]"
   ]
  },
  {
   "cell_type": "code",
   "execution_count": 53,
   "metadata": {},
   "outputs": [
    {
     "data": {
      "text/html": [
       "<div>\n",
       "<style scoped>\n",
       "    .dataframe tbody tr th:only-of-type {\n",
       "        vertical-align: middle;\n",
       "    }\n",
       "\n",
       "    .dataframe tbody tr th {\n",
       "        vertical-align: top;\n",
       "    }\n",
       "\n",
       "    .dataframe thead th {\n",
       "        text-align: right;\n",
       "    }\n",
       "</style>\n",
       "<table border=\"1\" class=\"dataframe\">\n",
       "  <thead>\n",
       "    <tr style=\"text-align: right;\">\n",
       "      <th></th>\n",
       "      <th>Afile</th>\n",
       "      <th>Page</th>\n",
       "      <th>Is_Redacted</th>\n",
       "      <th>url</th>\n",
       "      <th>Detected Text</th>\n",
       "      <th>Ocr_Dump_path</th>\n",
       "      <th>idx</th>\n",
       "    </tr>\n",
       "  </thead>\n",
       "  <tbody>\n",
       "    <tr>\n",
       "      <th>14894</th>\n",
       "      <td>A34140438</td>\n",
       "      <td>42</td>\n",
       "      <td>True</td>\n",
       "      <td>https://d1b7k5w7yjwpfg.cloudfront.net/iiif/2/m...</td>\n",
       "      <td>Screened by NARA, 9/22/2023</td>\n",
       "      <td>/Users/ajay/Documents/Oncampus/TrainingFramewo...</td>\n",
       "      <td>14894</td>\n",
       "    </tr>\n",
       "    <tr>\n",
       "      <th>16413</th>\n",
       "      <td>A40280965</td>\n",
       "      <td>10</td>\n",
       "      <td>True</td>\n",
       "      <td>https://d1b7k5w7yjwpfg.cloudfront.net/iiif/2/m...</td>\n",
       "      <td>Screened by NARA, 7/27/2023</td>\n",
       "      <td>/Users/ajay/Documents/Oncampus/TrainingFramewo...</td>\n",
       "      <td>16413</td>\n",
       "    </tr>\n",
       "    <tr>\n",
       "      <th>6813</th>\n",
       "      <td>A19240402</td>\n",
       "      <td>12</td>\n",
       "      <td>False</td>\n",
       "      <td>https://d1b7k5w7yjwpfg.cloudfront.net/iiif/2/m...</td>\n",
       "      <td>=</td>\n",
       "      <td>/Users/ajay/Documents/Oncampus/TrainingFramewo...</td>\n",
       "      <td>6813</td>\n",
       "    </tr>\n",
       "    <tr>\n",
       "      <th>24771</th>\n",
       "      <td>A92037324</td>\n",
       "      <td>75</td>\n",
       "      <td>True</td>\n",
       "      <td>https://d1b7k5w7yjwpfg.cloudfront.net/iiif/2/m...</td>\n",
       "      <td>CIMIDN IMMIGRATION AND NATURALIZATION SERVICE ...</td>\n",
       "      <td>/Users/ajay/Documents/Oncampus/TrainingFramewo...</td>\n",
       "      <td>24771</td>\n",
       "    </tr>\n",
       "    <tr>\n",
       "      <th>23438</th>\n",
       "      <td>A73964564</td>\n",
       "      <td>86</td>\n",
       "      <td>True</td>\n",
       "      <td>https://d1b7k5w7yjwpfg.cloudfront.net/iiif/2/m...</td>\n",
       "      <td>Screened by NARA, 7/24/2023 WITHDRAWN ITEM RG:...</td>\n",
       "      <td>/Users/ajay/Documents/Oncampus/TrainingFramewo...</td>\n",
       "      <td>23438</td>\n",
       "    </tr>\n",
       "    <tr>\n",
       "      <th>...</th>\n",
       "      <td>...</td>\n",
       "      <td>...</td>\n",
       "      <td>...</td>\n",
       "      <td>...</td>\n",
       "      <td>...</td>\n",
       "      <td>...</td>\n",
       "      <td>...</td>\n",
       "    </tr>\n",
       "    <tr>\n",
       "      <th>11694</th>\n",
       "      <td>A27851175</td>\n",
       "      <td>3</td>\n",
       "      <td>True</td>\n",
       "      <td>https://d1b7k5w7yjwpfg.cloudfront.net/iiif/2/m...</td>\n",
       "      <td>Departure Number Screened by NARA, 9/22/2023 0...</td>\n",
       "      <td>/Users/ajay/Documents/Oncampus/TrainingFramewo...</td>\n",
       "      <td>11694</td>\n",
       "    </tr>\n",
       "    <tr>\n",
       "      <th>17657</th>\n",
       "      <td>A41804438</td>\n",
       "      <td>35</td>\n",
       "      <td>True</td>\n",
       "      <td>https://d1b7k5w7yjwpfg.cloudfront.net/iiif/2/m...</td>\n",
       "      <td>Screened by NARA, 9/27/2023 LIN93 022 51302 RE...</td>\n",
       "      <td>/Users/ajay/Documents/Oncampus/TrainingFramewo...</td>\n",
       "      <td>17657</td>\n",
       "    </tr>\n",
       "    <tr>\n",
       "      <th>7478</th>\n",
       "      <td>A19918776</td>\n",
       "      <td>27</td>\n",
       "      <td>False</td>\n",
       "      <td>https://d1b7k5w7yjwpfg.cloudfront.net/iiif/2/m...</td>\n",
       "      <td>Harrist Carol Altinan</td>\n",
       "      <td>/Users/ajay/Documents/Oncampus/TrainingFramewo...</td>\n",
       "      <td>7478</td>\n",
       "    </tr>\n",
       "    <tr>\n",
       "      <th>7438</th>\n",
       "      <td>A19790690</td>\n",
       "      <td>49</td>\n",
       "      <td>True</td>\n",
       "      <td>https://d1b7k5w7yjwpfg.cloudfront.net/iiif/2/m...</td>\n",
       "      <td>Screened by NARA, 2/10/2023 So thông-hänh này ...</td>\n",
       "      <td>/Users/ajay/Documents/Oncampus/TrainingFramewo...</td>\n",
       "      <td>7438</td>\n",
       "    </tr>\n",
       "    <tr>\n",
       "      <th>738</th>\n",
       "      <td>A10412729</td>\n",
       "      <td>13</td>\n",
       "      <td>False</td>\n",
       "      <td>https://d1b7k5w7yjwpfg.cloudfront.net/iiif/2/m...</td>\n",
       "      <td>861.01 mot bland emetti You (08-1-f.vs9 al 35 ...</td>\n",
       "      <td>/Users/ajay/Documents/Oncampus/TrainingFramewo...</td>\n",
       "      <td>738</td>\n",
       "    </tr>\n",
       "  </tbody>\n",
       "</table>\n",
       "<p>6303 rows × 7 columns</p>\n",
       "</div>"
      ],
      "text/plain": [
       "           Afile  Page  Is_Redacted  \\\n",
       "14894  A34140438    42         True   \n",
       "16413  A40280965    10         True   \n",
       "6813   A19240402    12        False   \n",
       "24771  A92037324    75         True   \n",
       "23438  A73964564    86         True   \n",
       "...          ...   ...          ...   \n",
       "11694  A27851175     3         True   \n",
       "17657  A41804438    35         True   \n",
       "7478   A19918776    27        False   \n",
       "7438   A19790690    49         True   \n",
       "738    A10412729    13        False   \n",
       "\n",
       "                                                     url  \\\n",
       "14894  https://d1b7k5w7yjwpfg.cloudfront.net/iiif/2/m...   \n",
       "16413  https://d1b7k5w7yjwpfg.cloudfront.net/iiif/2/m...   \n",
       "6813   https://d1b7k5w7yjwpfg.cloudfront.net/iiif/2/m...   \n",
       "24771  https://d1b7k5w7yjwpfg.cloudfront.net/iiif/2/m...   \n",
       "23438  https://d1b7k5w7yjwpfg.cloudfront.net/iiif/2/m...   \n",
       "...                                                  ...   \n",
       "11694  https://d1b7k5w7yjwpfg.cloudfront.net/iiif/2/m...   \n",
       "17657  https://d1b7k5w7yjwpfg.cloudfront.net/iiif/2/m...   \n",
       "7478   https://d1b7k5w7yjwpfg.cloudfront.net/iiif/2/m...   \n",
       "7438   https://d1b7k5w7yjwpfg.cloudfront.net/iiif/2/m...   \n",
       "738    https://d1b7k5w7yjwpfg.cloudfront.net/iiif/2/m...   \n",
       "\n",
       "                                           Detected Text  \\\n",
       "14894                        Screened by NARA, 9/22/2023   \n",
       "16413                        Screened by NARA, 7/27/2023   \n",
       "6813                                                   =   \n",
       "24771  CIMIDN IMMIGRATION AND NATURALIZATION SERVICE ...   \n",
       "23438  Screened by NARA, 7/24/2023 WITHDRAWN ITEM RG:...   \n",
       "...                                                  ...   \n",
       "11694  Departure Number Screened by NARA, 9/22/2023 0...   \n",
       "17657  Screened by NARA, 9/27/2023 LIN93 022 51302 RE...   \n",
       "7478                               Harrist Carol Altinan   \n",
       "7438   Screened by NARA, 2/10/2023 So thông-hänh này ...   \n",
       "738    861.01 mot bland emetti You (08-1-f.vs9 al 35 ...   \n",
       "\n",
       "                                           Ocr_Dump_path    idx  \n",
       "14894  /Users/ajay/Documents/Oncampus/TrainingFramewo...  14894  \n",
       "16413  /Users/ajay/Documents/Oncampus/TrainingFramewo...  16413  \n",
       "6813   /Users/ajay/Documents/Oncampus/TrainingFramewo...   6813  \n",
       "24771  /Users/ajay/Documents/Oncampus/TrainingFramewo...  24771  \n",
       "23438  /Users/ajay/Documents/Oncampus/TrainingFramewo...  23438  \n",
       "...                                                  ...    ...  \n",
       "11694  /Users/ajay/Documents/Oncampus/TrainingFramewo...  11694  \n",
       "17657  /Users/ajay/Documents/Oncampus/TrainingFramewo...  17657  \n",
       "7478   /Users/ajay/Documents/Oncampus/TrainingFramewo...   7478  \n",
       "7438   /Users/ajay/Documents/Oncampus/TrainingFramewo...   7438  \n",
       "738    /Users/ajay/Documents/Oncampus/TrainingFramewo...    738  \n",
       "\n",
       "[6303 rows x 7 columns]"
      ]
     },
     "execution_count": 53,
     "metadata": {},
     "output_type": "execute_result"
    }
   ],
   "source": [
    "dffail"
   ]
  },
  {
   "cell_type": "markdown",
   "metadata": {},
   "source": [
    "### Add url and document ID, add raw ocr text"
   ]
  },
  {
   "cell_type": "code",
   "execution_count": 105,
   "metadata": {},
   "outputs": [],
   "source": [
    "import os \n",
    "import json\n",
    "import pandas as pd \n",
    "\n",
    "\n",
    "def read_json(path):\n",
    "    with open(os.path.join(extracted_output_path,path), 'r') as json_file:\n",
    "        # Load the data from the file\n",
    "        data = json.load(json_file)\n",
    "    return data\n",
    "\n",
    "def get_doc_data(path):\n",
    "    pathsplit = path.split(\"_\")\n",
    "\n",
    "    dev_idx = int(pathsplit[0])\n",
    "    # if 'redacted' in path:\n",
    "    #     newname = '_'.join([pathsplit[1],pathsplit[3]])\n",
    "        \n",
    "    # else:\n",
    "    newname = '_'.join(pathsplit[1:])\n",
    "\n",
    "    afile = newname.split(\"_\")[0]\n",
    "    pno = int(pathsplit[-1].split(\".\")[0])\n",
    "    return newname, afile, dev_idx, pno\n",
    "\n",
    "def write_text_file(path,text):\n",
    "    try:\n",
    "        with open(path, 'w') as file:\n",
    "            file.write(text)\n",
    "    except Exception as e:\n",
    "        print(\"An error occurred:\", str(e),path,text)\n",
    "\n",
    "\n",
    "''' \n",
    "Things to extract:\n",
    "    url\n",
    "    doc_id\n",
    "    afile_number\n",
    "    ocr_text \n",
    "        get the text\n",
    "        store it in a text file in a separate folder\n",
    "        store the path (relative path) as a key\n",
    "'''\n",
    "\n",
    "extracted_output_path = \"/Users/ajay/Documents/Oncampus/TrainingFramework/extracted_metadata/metadata_outputs\"\n",
    "ocr_output_folder = \"/Users/ajay/Documents/Oncampus/TrainingFramework/extracted_metadata/text_ocr\"\n",
    "df = pd.read_csv(\"/Users/ajay/Documents/Oncampus/TrainingFramework/combined_csv.csv\")\n",
    "\n",
    "for path in os.listdir(extracted_output_path):\n",
    "    data = read_json(path)\n",
    "\n",
    "    newname, afile, dev_idx, pno = get_doc_data(path)\n",
    "\n",
    "\n",
    "    data['doc_id'] = newname.split(\".\")[0]\n",
    "    data['afile_number'] = afile\n",
    "    data['dev_idx'] = dev_idx\n",
    "    data['pagenumber'] = pno\n",
    "    data['url'] = df.iloc[dev_idx]['url']\n",
    "    data['is_afile_redacted'] = False\n",
    "    data['is_afile_withdrawn'] = False\n",
    "    ocr_text = df.iloc[dev_idx]['Detected Text']\n",
    "    data['ocr_path'] = os.path.join(\"text_ocr\",newname.split(\".\")[0]+\".txt\")\n",
    "\n",
    "    if isinstance(ocr_text,float):\n",
    "        ocr_text = \"\" # to handle nans\n",
    "    \n",
    "    pathsplit = path.split(\"_\")\n",
    "    if len(pathsplit) >= 4:\n",
    "        if 'redact' in pathsplit[2]:\n",
    "            data['is_afile_redacted'] = True\n",
    "        elif 'withdr' in pathsplit[2]:\n",
    "            data['is_afile_withdrawn'] = True\n",
    "\n",
    "    \n",
    "    \n",
    "\n",
    "    old_name = os.path.join(extracted_output_path, path)\n",
    "    new_name = os.path.join(extracted_output_path, newname)\n",
    "    os.rename(old_name, new_name)\n",
    "    write_text_file(os.path.join(ocr_output_folder, newname.split(\".\")[0]+\".txt\"),ocr_text)\n",
    "\n",
    "    with open(new_name, \"w\") as json_file:\n",
    "        json.dump(data, json_file)\n"
   ]
  },
  {
   "cell_type": "code",
   "execution_count": 100,
   "metadata": {},
   "outputs": [
    {
     "name": "stdout",
     "output_type": "stream",
     "text": [
      "{'withdrawal', 'redacted', 'redacted(1)'}\n"
     ]
    }
   ],
   "source": [
    "extracted_output_path = \"/Users/ajay/Documents/Oncampus/TrainingFramework/extracted_metadata/metadata_outputs\"\n",
    "s = set()\n",
    "for path in os.listdir(extracted_output_path):\n",
    "    pathsplit = path.split(\"_\")\n",
    "    if len(pathsplit) >= 4:\n",
    "        s.add(pathsplit[2])\n",
    "\n",
    "print(s)"
   ]
  },
  {
   "cell_type": "markdown",
   "metadata": {},
   "source": [
    "## Final Push"
   ]
  },
  {
   "cell_type": "markdown",
   "metadata": {},
   "source": [
    "### Run Certnat"
   ]
  },
  {
   "cell_type": "code",
   "execution_count": 2,
   "metadata": {},
   "outputs": [
    {
     "name": "stdout",
     "output_type": "stream",
     "text": [
      "/Users/ajay/Documents/Oncampus/Deployment_Framework\n"
     ]
    }
   ],
   "source": [
    "!pwd"
   ]
  },
  {
   "cell_type": "code",
   "execution_count": 2,
   "metadata": {},
   "outputs": [
    {
     "name": "stderr",
     "output_type": "stream",
     "text": [
      "/Users/ajay/miniconda3/lib/python3.11/site-packages/tqdm/auto.py:21: TqdmWarning: IProgress not found. Please update jupyter and ipywidgets. See https://ipywidgets.readthedocs.io/en/stable/user_install.html\n",
      "  from .autonotebook import tqdm as notebook_tqdm\n",
      "/Users/ajay/miniconda3/lib/python3.11/site-packages/fuzzywuzzy/fuzz.py:11: UserWarning: Using slow pure-python SequenceMatcher. Install python-Levenshtein to remove this warning\n",
      "  warnings.warn('Using slow pure-python SequenceMatcher. Install python-Levenshtein to remove this warning')\n"
     ]
    },
    {
     "name": "stdout",
     "output_type": "stream",
     "text": [
      "2024-05-13 16:41:36,136 SequenceTagger predicts: Dictionary with 76 tags: <unk>, O, B-CARDINAL, E-CARDINAL, S-PERSON, S-CARDINAL, S-PRODUCT, B-PRODUCT, I-PRODUCT, E-PRODUCT, B-WORK_OF_ART, I-WORK_OF_ART, E-WORK_OF_ART, B-PERSON, E-PERSON, S-GPE, B-DATE, I-DATE, E-DATE, S-ORDINAL, S-LANGUAGE, I-PERSON, S-EVENT, S-DATE, B-QUANTITY, E-QUANTITY, S-TIME, B-TIME, I-TIME, E-TIME, B-GPE, E-GPE, S-ORG, I-GPE, S-NORP, B-FAC, I-FAC, E-FAC, B-NORP, E-NORP, S-PERCENT, B-ORG, E-ORG, B-LANGUAGE, E-LANGUAGE, I-CARDINAL, I-ORG, S-WORK_OF_ART, I-QUANTITY, B-MONEY\n"
     ]
    }
   ],
   "source": [
    "import json \n",
    "import torch\n",
    "from tqdm import tqdm\n",
    "# from metadata_extraction.run_llm_pipeline import Extraction\n",
    "# from classification_models.image.load_classifier import Pretrained_Image_Classifier\n",
    "# import sys\n",
    "# module_path = \"/scratch/ag8172/Deployment_Framework/Misc_Techniques\"\n",
    "# sys.path.append(module_path)\n",
    "from misc_techniques import detect_cert_nat\n",
    "from misc_techniques.detect_G325A import detect_g325av5 \n",
    "from misc_techniques import flair_extract\n",
    "from metadata_extraction.run_llm_pipeline import Extraction\n",
    "from classification_models.image.load_classifier import Pretrained_Image_Classifier\n",
    "import pandas as pd \n",
    "import os\n",
    "\n",
    "\n",
    "# ext_class = Extraction(\"./metadata_extraction/configs/fewshot_v2.cfg\", \"./metadata_extraction/configs/examples_g325a_2.yml\")\n"
   ]
  },
  {
   "cell_type": "code",
   "execution_count": 3,
   "metadata": {},
   "outputs": [],
   "source": [
    "pathtojson = \"/Users/ajay/Documents/Oncampus/TrainingFramework/extracted_metadata/metadata_outputs\"\n"
   ]
  },
  {
   "cell_type": "code",
   "execution_count": 4,
   "metadata": {},
   "outputs": [],
   "source": [
    "def read_json(path):\n",
    "    with open(os.path.join(pathtojson,path), 'r') as json_file:\n",
    "        # Load the data from the file\n",
    "        data = json.load(json_file)\n",
    "    return data\n",
    "\n",
    "def read_text(path):\n",
    "    with open(os.path.join(\"/Users/ajay/Documents/Oncampus/TrainingFramework/extracted_metadata\",path), 'r') as file:\n",
    "        # Read the entire contents of the file\n",
    "        contents = file.read()\n",
    "    return contents"
   ]
  },
  {
   "cell_type": "code",
   "execution_count": 58,
   "metadata": {},
   "outputs": [],
   "source": [
    "for path in os.listdir(pathtojson):\n",
    "    data = read_json(path)\n",
    "    if data.get('is_cert_naturalization',False):\n",
    "        certnat = data"
   ]
  },
  {
   "cell_type": "code",
   "execution_count": 8,
   "metadata": {},
   "outputs": [],
   "source": []
  },
  {
   "cell_type": "code",
   "execution_count": 18,
   "metadata": {},
   "outputs": [
    {
     "data": {
      "text/plain": [
       "20235"
      ]
     },
     "execution_count": 18,
     "metadata": {},
     "output_type": "execute_result"
    }
   ],
   "source": [
    "os.listdir(pathtojson).index(path)"
   ]
  },
  {
   "cell_type": "code",
   "execution_count": 19,
   "metadata": {},
   "outputs": [],
   "source": [
    "ext_class = Extraction(\"./metadata_extraction/configs/fewshot_certnat.cfg\", \"./metadata_extraction/configs/examples_certnat.yml\")\n",
    "for path in os.listdir(pathtojson)[20235:]:\n",
    "    data = read_json(path)\n",
    "    if \"is_g325a\" not in data:\n",
    "        data['is_g325a'] = False \n",
    "    if \"is_cert_naturalization\" not in data:\n",
    "        data['is_cert_naturalization'] = False\n",
    "    if \"g325a_attributes\" not in data:\n",
    "        data['g325a_attributes'] = {}\n",
    "    if \"cert_naturalization_attributes\" not in data:\n",
    "        data['cert_naturalization_attributes'] = {}\n",
    "    if data.get('is_cert_naturalization',False):\n",
    "        # g325adata = data\n",
    "        text = read_text(data['ocr_path'])\n",
    "        output = ext_class.extract_metadata(f\"\"\"{text}\"\"\")\n",
    "        metadata = {}\n",
    "        for k,v in output.items():\n",
    "            metadata[f\"LLM_{k}\"] = v \n",
    "        data['cert_naturalization_attributes'] = {} \n",
    "        data['cert_naturalization_attributes'] = metadata\n",
    "\n",
    "    json.dump(data, open(os.path.join(pathtojson,path), 'w'), indent=4)\n",
    "    \n"
   ]
  },
  {
   "cell_type": "code",
   "execution_count": 14,
   "metadata": {},
   "outputs": [],
   "source": [
    "metadata = {}\n",
    "for k,v in output.items():\n",
    "    metadata[f\"LLM_{k}\"] = v \n",
    "g325adata['cert_naturalization_attributes'] = {} \n",
    "g325adata['cert_naturalization_attributes'] = metadata"
   ]
  },
  {
   "cell_type": "code",
   "execution_count": 15,
   "metadata": {},
   "outputs": [
    {
     "data": {
      "text/plain": [
       "{'document_type': 'letter',\n",
       " 'is_cert_naturalization': True,\n",
       " 'g325a_attributes': {},\n",
       " 'is_g325a': False,\n",
       " 'countries': ['United States', 'Cuba'],\n",
       " 'years': ['1970', '1903'],\n",
       " 'doc_id': 'A12495368_0008',\n",
       " 'afile_number': 'A12495368',\n",
       " 'dev_idx': 2665,\n",
       " 'pagenumber': 8,\n",
       " 'url': 'https://d1b7k5w7yjwpfg.cloudfront.net/iiif/2/migrants-state_A12495368_0008/full/full/0/default.jpg',\n",
       " 'is_afile_redacted': False,\n",
       " 'is_afile_withdrawn': False,\n",
       " 'ocr_path': 'text_ocr/A12495368_0008.txt',\n",
       " 'cert_naturalization_attributes': {'LLM_NUMBER': ['9264028'],\n",
       "  'LLM_DATE_OF_BIRTH': ['December 26', '1903'],\n",
       "  'LLM_SEX': ['female'],\n",
       "  'LLM_COMPLEXION': ['fair'],\n",
       "  'LLM_COLOR_OF_EYES': ['brown'],\n",
       "  'LLM_WEIGHT': ['170 pounds'],\n",
       "  'LLM_VISIBILE_DISTINCTIVE_MARKS': ['none'],\n",
       "  'LLM_MARITAL_STATUS': ['married'],\n",
       "  'LLM_FORMER_NATIONALITY': ['Cuba'],\n",
       "  'LLM_NATURALIZATION_COUNTRY': ['UNITED STATES', 'United States'],\n",
       "  'LLM_NATURALIZATION_MUNICIPALITY': ['Miami'],\n",
       "  'LLM_NATURALIZATION_STATE': ['Florida'],\n",
       "  'LLM_DATE_OF_NATURALIZATION': ['1970', 'February 3'],\n",
       "  'LLM_NAME_AT_NATURALIZATION': ['MARIA ANA CUNILL'],\n",
       "  'LLM_LLM_NUMBER': ['9264028']}}"
      ]
     },
     "execution_count": 15,
     "metadata": {},
     "output_type": "execute_result"
    }
   ],
   "source": [
    "g325adata"
   ]
  },
  {
   "cell_type": "code",
   "execution_count": 68,
   "metadata": {},
   "outputs": [
    {
     "name": "stdout",
     "output_type": "stream",
     "text": [
      "----OLD--------\n",
      "https://d1b7k5w7yjwpfg.cloudfront.net/iiif/2/migrants-state_A12495368_0008/full/full/0/default.jpg\n",
      "{'document_type': 'letter', 'is_cert_naturalization': True, 'g325a_attributes': {}, 'is_g325a': False, 'countries': ['United States', 'Cuba'], 'years': ['1970', '1903'], 'doc_id': 'A12495368_0008', 'afile_number': 'A12495368', 'dev_idx': 2665, 'pagenumber': 8, 'url': 'https://d1b7k5w7yjwpfg.cloudfront.net/iiif/2/migrants-state_A12495368_0008/full/full/0/default.jpg', 'is_afile_redacted': False, 'is_afile_withdrawn': False, 'ocr_path': 'text_ocr/A12495368_0008.txt'}\n",
      "----NEW--------\n",
      "{'NUMBER': ['9264028'], 'DATE_OF_BIRTH': ['December 26', '1903'], 'SEX': ['female'], 'COMPLEXION': ['fair'], 'COLOR_OF_EYES': ['brown'], 'WEIGHT': ['170 pounds'], 'VISIBILE_DISTINCTIVE_MARKS': ['none'], 'MARITAL_STATUS': ['married'], 'FORMER_NATIONALITY': ['Cuba'], 'NATURALIZATION_COUNTRY': ['UNITED STATES', 'United States'], 'NATURALIZATION_MUNICIPALITY': ['Miami'], 'NATURALIZATION_STATE': ['Florida'], 'DATE_OF_NATURALIZATION': ['February 3', '1970'], 'NAME_AT_NATURALIZATION': ['MARIA ANA CUNILL']}\n"
     ]
    }
   ],
   "source": [
    "ext_class = Extraction(\"./metadata_extraction/configs/fewshot_certnat.cfg\", \"./metadata_extraction/configs/examples_certnat.yml\")\n",
    "\n",
    "for path in os.listdir(pathtojson):\n",
    "    data = read_json(path)\n",
    "    if data.get('is_cert_naturalization',False):\n",
    "        g325adata = data\n",
    "        text = read_text(g325adata['ocr_path'])\n",
    "        output = ext_class.extract_metadata(f\"\"\"{text}\"\"\")\n",
    "        print(\"----OLD--------\")\n",
    "        print(data['url'])\n",
    "        print(data)\n",
    "        print(\"----NEW--------\")\n",
    "        print(output)\n",
    "        break"
   ]
  },
  {
   "cell_type": "code",
   "execution_count": 66,
   "metadata": {},
   "outputs": [
    {
     "data": {
      "text/plain": [
       "\"CA TO BE FORWARDED TO No. 9264028 IMMIGRATION AND INATURALIZATION SERVICE 1 Petition No. 46,641 DUPLICATE AlienRegistration No. A-12 495 368 Personal,description of holder's of date of naturalization: Date of birth December 26, 1903 sex female ; complexion fair coloroferies brown color of hair brown height 5 feel 7 inches; weight 170 pounds; visible distinctive marks none Maritalstatus married Country of formernationality Cuba I certify that the description above given is brive, and ephotograph.offixed, hereto is, a likeness of me < Haux Hn Cumll ( Complete and true signature of holder) THE UNITED STATES OF AMERICA SOUTHERN DI STRICT OF FLORI DA } SS: Beit known, that at a termofthe District the United States Court of held/pursuantio lawal Miami, Florida on February 3, 1970 the Court shavingfoundshall MARIA ANA CUNILL then residing at Miami, Florida inlends loreside permanentlyin, the United. States when sorequired, by the naturalization Laws of he United States), had in all thererespects, complied with the applicable provisions of such naturalization laws, and was entitled tobe Seal admilled docitizenship. thereupon ordered that such person be and(s)hewas admilled as a citizen of the United States of America. Intestimony whereof thesealofthe, courtis hereunto afficced this 3rd day of February in theyearsfours. Lord nineleen hundred and seventy Joseph I. Bogart Clerk of the U.S. District Court. IT IS A VIOLATION OF THE U. S. CODE (AND PUNISHABLE AS SUCH) TO COPY, PRINT. PHOTOGRAPH. OR OTHERWISE ILLEGALLY USE THIS CERTIFICATE. By John L. Taille Deputy Clerk.\""
      ]
     },
     "execution_count": 66,
     "metadata": {},
     "output_type": "execute_result"
    }
   ],
   "source": [
    "text"
   ]
  },
  {
   "cell_type": "code",
   "execution_count": 61,
   "metadata": {},
   "outputs": [
    {
     "data": {
      "text/plain": [
       "'THE TO BE FORWARDED TO No. 8806431 IMMIGRATION AND INATURALIZATION SERVICE Petition No. 65010 DUPLICATE Personal description, of holderas, of date of naturalization: Date of birth January 25, 1909 sex female ; complexion medium coloroleyes brown color of hair grey height 5 feet 4 inches; weight 117 pounds; visibledistincine marks none Maritalstatus widowed Country of formernationality Hungary I certify that the description, above given is true, and that,She ephotographs affixed, hereto, is a likeness of me. Room Toth ( Complete and true signature of holder) UNITED STATES OF AMERICA } SS: WESTERN DISTRICT OF NEW YORK Beit known, that at a termolthe District Court,of The United States, Western District of New York held pursuantlo lawal Buffalo, N. Y. on May 6th, 1965 the Court havingfoundshal ROSA TOTA then residing at 2148 Main Street, Buffalo, New York - 14214 inlends loreside permanently in the United. States when sorequired by the Rosa Toth Naturalization Laws ofthe United States), had in all other respects, complied with the applicable provisions of such nativalization laws, and was entitled to be Seal admitted docilizenship, thereupon ordered that such person be and us)hewas admilled as a citizen of the United States of America. Indestimony whereof thesealos, the court is hereunto, affixced this 6th day of May in the year four Lord nineteen hundred and sixty-five ROLAND E. LOGEL Clerk of the U.S. District Court. IT IS A VIOLATION OF THE U. S. CODE (AND PUNISHABLE AS SUCH) TO COPY. PRINT. PHOTOGRAPH. OR OTHERWISE ILLEGALLY USE THIS CERTIFICATE. By arice morning Deputy Clerk.'"
      ]
     },
     "execution_count": 61,
     "metadata": {},
     "output_type": "execute_result"
    }
   ],
   "source": [
    "df[df['url']=='https://d1b7k5w7yjwpfg.cloudfront.net/iiif/2/migrants-state_A10009114_0000/full/full/0/default.jpg'].iloc[0]['Detected Text']"
   ]
  },
  {
   "cell_type": "markdown",
   "metadata": {},
   "source": [
    "### G325A"
   ]
  },
  {
   "cell_type": "code",
   "execution_count": 3,
   "metadata": {},
   "outputs": [
    {
     "data": {
      "text/plain": [
       "' \\nread the json\\nsave extracted ouptut to new json and then compare both (do old, new)\\n'"
      ]
     },
     "execution_count": 3,
     "metadata": {},
     "output_type": "execute_result"
    }
   ],
   "source": [
    "''' \n",
    "read the json\n",
    "save extracted ouptut to new json and then compare both (do old, new)\n",
    "'''"
   ]
  },
  {
   "cell_type": "code",
   "execution_count": 36,
   "metadata": {},
   "outputs": [
    {
     "data": {
      "text/plain": [
       "({'document_type': 'misc',\n",
       "  'doc_id': 'A18029489_0048',\n",
       "  'afile_number': 'A18029489',\n",
       "  'dev_idx': 6486,\n",
       "  'pagenumber': 48,\n",
       "  'url': 'https://d1b7k5w7yjwpfg.cloudfront.net/iiif/2/migrants-state_A18029489_0048/full/full/0/default.jpg',\n",
       "  'is_afile_redacted': False,\n",
       "  'is_afile_withdrawn': False,\n",
       "  'ocr_path': 'text_ocr/A18029489_0048.txt'},\n",
       " 'A18029489_0048.json')"
      ]
     },
     "execution_count": 36,
     "metadata": {},
     "output_type": "execute_result"
    }
   ],
   "source": [
    "data,path"
   ]
  },
  {
   "cell_type": "code",
   "execution_count": 37,
   "metadata": {},
   "outputs": [],
   "source": [
    "for path in os.listdir(pathtojson):\n",
    "    data = read_json(path)\n",
    "    if data.get('is_g325a',False):\n",
    "        g325adata = data"
   ]
  },
  {
   "cell_type": "code",
   "execution_count": 38,
   "metadata": {},
   "outputs": [
    {
     "data": {
      "text/plain": [
       "{'document_type': 'form',\n",
       " 'is_cert_naturalization': False,\n",
       " 'g325a_attributes': {'LLM_FORM_NUMBER': ['G-325A'],\n",
       "  'LLM_REVISION_DATE': ['6/7/2023'],\n",
       "  'LLM_OMB_NUMBER': ['1115-0066'],\n",
       "  'LLM_COUNTRY': ['Honduras', 'USA'],\n",
       "  'LLM_OCCUPATION': ['NONE', 'none'],\n",
       "  'LLM_STATE_CITY': ['San Pedro Sula', 'Newburgh N.Y.', 'Cortez']},\n",
       " 'is_g325a': True,\n",
       " 'countries': ['United States', 'Honduras'],\n",
       " 'years': ['1988', '1907', '1971', '2023'],\n",
       " 'doc_id': 'A29089715_redacted_0046',\n",
       " 'afile_number': 'A29089715',\n",
       " 'dev_idx': 13573,\n",
       " 'pagenumber': 46,\n",
       " 'url': 'https://d1b7k5w7yjwpfg.cloudfront.net/iiif/2/migrants-state_A29089715_redacted_0046/full/full/0/default.jpg',\n",
       " 'is_afile_redacted': True,\n",
       " 'is_afile_withdrawn': False,\n",
       " 'ocr_path': 'text_ocr/A29089715_redacted_0046.txt'}"
      ]
     },
     "execution_count": 38,
     "metadata": {},
     "output_type": "execute_result"
    }
   ],
   "source": [
    "g325adata"
   ]
  },
  {
   "cell_type": "code",
   "execution_count": 39,
   "metadata": {},
   "outputs": [],
   "source": [
    "text = read_text(g325adata['ocr_path'])"
   ]
  },
  {
   "cell_type": "code",
   "execution_count": 21,
   "metadata": {},
   "outputs": [
    {
     "data": {
      "text/plain": [
       "\"Screened bv NARA 7/28/2023 INSTRUCTIONS. USE TYPEWRITER. BE SURE ALL COPIES ARE LEGIBLE. Failure to answer fully all questions delays action. 04255 Do Not Remove Carbons: If type er is not available, print heavily in block letters n ball-point pen. *U.S. GPO: 1986-155-463 For sale by the Superintendent of Documents. U.S. Government Printing Office. Washington. D.C. 20402 (Per 100) U.S. Department of Justice FORM G-325A OMB No. 1115-0066 Immigration and Naturalization Service BIOGRAPHIC INFORMATION Approval expires 4-30-85 (Family name) (First name) (Middle name) MALE BIRTHDATE (Mo.-Day-Yr.) NATIONALITY FILE NUMBER NOLASCO-Vda. Sanchez, ISABEL FEMALE 06-17-12 Salvadorean A- ALL OTHER NAMES USED (Including names by previous marriages) CITY AND COUNTRY OF BIRTH SOCIAL SECURITY NO. Isabel Nolasco San Salvador, E1 Salvador (If any) FAMILY NAME FIRST NAME DATE, CITY AND COUNTRY OF BIRTH (If known) CITY AND COUNTRY OF RESIDENCE FATHER Nolasco, Prudencio Unkn. E1 Salvador Deceased MOTHER (Maiden name) Ramirez, Doloras Unkn. E1 Salvador Deceased HUSBAND (If none, SO state) FAMILY NAME FIRST NAME BIRTHDATE CITY & COUNTRY OF BIRTH DATE OF MARRIAGE PLACE OF MARRIAGE OR (For wife, give maiden name) WIFE NONE FORMER HUSBANDS OR WIVES (if none, so state) FAMILY NAME (For wife, give maiden name) FIRST NAME BIRTHDATE DATE & PLACE OF MARRIAGE DATE AND PLACE OF TERMINATION OF MARRIAGE Sanchez Enedino 1899 9-21-30 E1 Salvador 10-9-79 El Salvador APPLICANT'S RESIDENCE LAST FIVE YEARS. LIST PRESENT ADDRESS FIRST. FROM TO STREET AND NUMBER CITY PROVINCE OR STATE COUNTRY MONTH YEAR MONTH YEAR 3538 Percy St., Los Angeles, California U.S.A. 01 90 PRESENT TIME Calle 15 de Septiembre # 140, San Marcos, San Salvador, E1 Salvador 60 01 90 APPLICANT'S LAST ADDRESS OUTSIDE THE UNITED STATES OF MORE THAN ONE YEAR FROM TO STREET AND NUMBER CITY PROVINCE OR STATE COUNTRY MONTH YEAR MONTH YEAR Same as above APPLICANT'S EMPLOYMENT LAST FIVE YEARS. (IF NONE, so STATE.) LIST PRESENT EMPLOYMENT FIRST FROM TO FULL NAME AND ADDRESS OF EMPLOYER OCCUPATION (SPECIFY) MONTH YEAR MONTH YEAR NONE Homechores 01 90 PRESENT TIME NONE Housewife 60 01 90 Show below last occupation abroad if not shown above. (Include all information requested above.) Same as above THIS FORM IS SUBMITTED IN CONNECTION WITH APPLICATION FOR: SIGNATURE OF APPLICANT DATE NATURALIZATION STATUS AS PERMANENT RESIDENT OTHER (SPECIFY): YOUR Osabel NATIVE ALPHABET nolesco IS OTHER de ROMAN Sanche 3/17/90 IF IN THAN LETTERS, WRITE YOUR NAME IN YOUR NATIVE ALPHABET IN THIS SPACE: Are all copies legible? Yes None PENALTIES: SEVERE PENALTIES ARE PROVIDED BY LAW FOR KNOWINGLY AND WILLFULLY FALSIFYING OR CONCEALING A MATERIAL FACT. APPLICANT: BE SURE TO PUT YOUR NAME AND ALIEN REGISTRATION NUMBER IN THE BOX OUTLINED BY HEAVY BORDER BELOW. COMPLETE THIS BOX (Family name) (Given name) (Middle name) (Alien registration number) NOLASCO-Vda. de SANCHEZ, ISABEL Form G-325 (Rev. 10-1-82) (I) IDENT.\""
      ]
     },
     "execution_count": 21,
     "metadata": {},
     "output_type": "execute_result"
    }
   ],
   "source": [
    "url = \"https://d1b7k5w7yjwpfg.cloudfront.net/iiif/2/migrants-state_A70022932_redacted_0020/full/full/0/default.jpg\" \n",
    "df = pd.read_csv(\"/Users/ajay/Documents/Oncampus/TrainingFramework/combined_csv.csv\")\n",
    "df[df['url']==url].iloc[0]['Detected Text']"
   ]
  },
  {
   "cell_type": "code",
   "execution_count": 51,
   "metadata": {},
   "outputs": [],
   "source": [
    "ext_class = Extraction(\"./metadata_extraction/configs/fewshot_v2.cfg\", \"./metadata_extraction/configs/examples_g325a_2.yml\")\n"
   ]
  },
  {
   "cell_type": "code",
   "execution_count": 44,
   "metadata": {},
   "outputs": [],
   "source": [
    "for path in os.listdir(pathtojson):\n",
    "    data = read_json(path)\n",
    "    if data.get('is_g325a',False):\n",
    "        g325adata = data\n",
    "        output = ext_class.extract_metadata(f\"\"\"{text}\"\"\")"
   ]
  },
  {
   "cell_type": "code",
   "execution_count": 49,
   "metadata": {},
   "outputs": [
    {
     "name": "stdout",
     "output_type": "stream",
     "text": [
      "----OLD--------\n",
      "https://d1b7k5w7yjwpfg.cloudfront.net/iiif/2/migrants-state_A21130830_0020/full/full/0/default.jpg\n",
      "{'LLM_FORM_NUMBER': ['G-325A'], 'LLM_REVISION_DATE': ['REV. 10-1-74'], 'LLM_OMB_NUMBER': ['43-R436'], 'LLM_NATIONALITY': ['Cuban'], 'LLM_STATE_CITY': ['N.Y.', 'Miami Fla', 'Hav Cuba', 'Miami Beach Fla'], 'LLM_EMPLOYER_ADDRESS': ['2001 CollinsAve Room 405'], 'LLM_COUNTRY': ['USA'], 'LLM_EMPLOYER': ['Biscaya'], 'LLM_OCCUPATION': ['Retiremant Residence']}\n",
      "----NEW--------\n",
      "{'FORM_NUMBER': ['G-325A'], 'REVISION_DATE': ['REV. 10-1-74'], 'OMB_NUMBER': ['43-R436'], 'NATIONALITY': ['Cuban'], 'PARENT_STATE_CITY': ['Hav Cuba', 'N.Y.'], 'MARRIAGE_DATE': ['2/7/07'], 'MARRIAGE_TERMINATION_DATE': ['1/12/73'], 'STATE_CITY': ['Miami Beach', 'Fla USA', 'Miami', 'Fla'], 'EMPLOYER': ['Biscaya'], 'OCCUPATION': ['Retiremant Residence']}\n"
     ]
    }
   ],
   "source": [
    "for path in os.listdir(pathtojson):\n",
    "    data = read_json(path)\n",
    "    if data.get('is_g325a',False):\n",
    "        g325adata = data\n",
    "        text = read_text(g325adata['ocr_path'])\n",
    "        output = ext_class.extract_metadata(f\"\"\"{text}\"\"\")\n",
    "        print(\"----OLD--------\")\n",
    "        print(g325adata['url'])\n",
    "        print(g325adata[\"g325a_attributes\"])\n",
    "        print(\"----NEW--------\")\n",
    "        print(output)\n",
    "        break"
   ]
  },
  {
   "cell_type": "code",
   "execution_count": 50,
   "metadata": {},
   "outputs": [
    {
     "data": {
      "text/plain": [
       "{'FORM_NUMBER': ['G-325A'],\n",
       " 'REVISION_DATE': ['REV. 8-27-'],\n",
       " 'OMB_NUMBER': ['43-R436'],\n",
       " 'NATIONALITY': ['Indian'],\n",
       " 'PARENT_STATE_CITY': ['Hydrebad', 'Sindh'],\n",
       " 'EMPLOYER': ['None', 'NONE', 'none'],\n",
       " 'PARENT_COUNTRY': ['Pakistan'],\n",
       " 'MARRIAGE_DATE': ['2-28-40'],\n",
       " 'STATE_CITY': ['L. A.', 'Poona Maharastra India'],\n",
       " 'OCCUPATION': ['Self Employed']}"
      ]
     },
     "execution_count": 50,
     "metadata": {},
     "output_type": "execute_result"
    }
   ],
   "source": [
    "text = df[df['url']=='https://d1b7k5w7yjwpfg.cloudfront.net/iiif/2/migrants-state_A20550522_redacted_0154/full/full/0/default.jpg'].iloc[0]['Detected Text']\n",
    "output = ext_class.extract_metadata(f\"\"\"{text}\"\"\")\n",
    "output"
   ]
  },
  {
   "cell_type": "code",
   "execution_count": 52,
   "metadata": {},
   "outputs": [
    {
     "data": {
      "text/plain": [
       "{'FORM_NUMBER': ['G-325A'],\n",
       " 'REVISION_DATE': ['REV. 8-27-'],\n",
       " 'OMB_NUMBER': ['43-R436'],\n",
       " 'NATIONALITY': ['Indian'],\n",
       " 'STATE_CITY': ['Hydrebad', 'Poona Maharastra', 'Sindh', 'L. A.'],\n",
       " 'EMPLOYER': ['None', 'NONE', 'none'],\n",
       " 'COUNTRY': ['India', 'Pakistan'],\n",
       " 'OCCUPATION': ['Self Employed']}"
      ]
     },
     "execution_count": 52,
     "metadata": {},
     "output_type": "execute_result"
    }
   ],
   "source": [
    "text = df[df['url']=='https://d1b7k5w7yjwpfg.cloudfront.net/iiif/2/migrants-state_A20550522_redacted_0154/full/full/0/default.jpg'].iloc[0]['Detected Text']\n",
    "output = ext_class.extract_metadata(f\"\"\"{text}\"\"\")\n",
    "output"
   ]
  },
  {
   "cell_type": "code",
   "execution_count": null,
   "metadata": {},
   "outputs": [],
   "source": []
  }
 ],
 "metadata": {
  "kernelspec": {
   "display_name": "base",
   "language": "python",
   "name": "python3"
  },
  "language_info": {
   "codemirror_mode": {
    "name": "ipython",
    "version": 3
   },
   "file_extension": ".py",
   "mimetype": "text/x-python",
   "name": "python",
   "nbconvert_exporter": "python",
   "pygments_lexer": "ipython3",
   "version": "3.11.5"
  },
  "orig_nbformat": 4
 },
 "nbformat": 4,
 "nbformat_minor": 2
}

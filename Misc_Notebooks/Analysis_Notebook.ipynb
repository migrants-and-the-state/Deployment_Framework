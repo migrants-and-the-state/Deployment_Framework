{
 "cells": [
  {
   "cell_type": "markdown",
   "metadata": {},
   "source": [
    "## Analysis on the documents"
   ]
  },
  {
   "cell_type": "code",
   "execution_count": 5,
   "metadata": {},
   "outputs": [
    {
     "data": {
      "text/plain": [
       "(565, 118, 0)"
      ]
     },
     "execution_count": 5,
     "metadata": {},
     "output_type": "execute_result"
    }
   ],
   "source": [
    "import os \n",
    "import json\n",
    "# generally checking for ocr errors\n",
    "extracted_output_path = \"/Users/ajay/Documents/Oncampus/TrainingFramework/extracted_metadata/metadata_outputs\"\n",
    "g325a = list()\n",
    "certnat = list()\n",
    "ocrfail = list()\n",
    "def read_json(path):\n",
    "    with open(os.path.join(extracted_output_path,path), 'r') as json_file:\n",
    "        # Load the data from the file\n",
    "        data = json.load(json_file)\n",
    "    return data\n",
    "\n",
    "for path in os.listdir(extracted_output_path):\n",
    "    \n",
    "    data = read_json(path)\n",
    "    if data.get('is_cert_naturalization',None):\n",
    "        certnat.append([int(path.split(\"_\")[-1]),path])\n",
    "    if data.get('is_g325a',None):\n",
    "        g325a.append([int(path.split(\"_\")[-1]),path])\n",
    "\n",
    "    if data.get('is_cert_naturalization',None) is None:\n",
    "        ocrfail.append([int(path.split(\"_\")[-1]),path])\n",
    "\n",
    "len(g325a),len(certnat), len(ocrfail)"
   ]
  },
  {
   "cell_type": "code",
   "execution_count": 7,
   "metadata": {},
   "outputs": [
    {
     "data": {
      "text/html": [
       "<div>\n",
       "<style scoped>\n",
       "    .dataframe tbody tr th:only-of-type {\n",
       "        vertical-align: middle;\n",
       "    }\n",
       "\n",
       "    .dataframe tbody tr th {\n",
       "        vertical-align: top;\n",
       "    }\n",
       "\n",
       "    .dataframe thead th {\n",
       "        text-align: right;\n",
       "    }\n",
       "</style>\n",
       "<table border=\"1\" class=\"dataframe\">\n",
       "  <thead>\n",
       "    <tr style=\"text-align: right;\">\n",
       "      <th></th>\n",
       "      <th>Afile</th>\n",
       "      <th>Page</th>\n",
       "      <th>Is_Redacted</th>\n",
       "      <th>url</th>\n",
       "      <th>Detected Text</th>\n",
       "      <th>Ocr_Dump_path</th>\n",
       "      <th>idx</th>\n",
       "    </tr>\n",
       "  </thead>\n",
       "  <tbody>\n",
       "    <tr>\n",
       "      <th>0</th>\n",
       "      <td>A10001331</td>\n",
       "      <td>0</td>\n",
       "      <td>False</td>\n",
       "      <td>https://d1b7k5w7yjwpfg.cloudfront.net/iiif/2/m...</td>\n",
       "      <td>For citation purposes: Records Copied at the N...</td>\n",
       "      <td>/Users/ajay/Documents/Oncampus/TrainingFramewo...</td>\n",
       "      <td>0</td>\n",
       "    </tr>\n",
       "    <tr>\n",
       "      <th>1</th>\n",
       "      <td>A10001331</td>\n",
       "      <td>1</td>\n",
       "      <td>False</td>\n",
       "      <td>https://d1b7k5w7yjwpfg.cloudfront.net/iiif/2/m...</td>\n",
       "      <td>Name (Last In CAPS) First Middle File No. 150 ...</td>\n",
       "      <td>/Users/ajay/Documents/Oncampus/TrainingFramewo...</td>\n",
       "      <td>1</td>\n",
       "    </tr>\n",
       "    <tr>\n",
       "      <th>2</th>\n",
       "      <td>A10001331</td>\n",
       "      <td>2</td>\n",
       "      <td>False</td>\n",
       "      <td>https://d1b7k5w7yjwpfg.cloudfront.net/iiif/2/m...</td>\n",
       "      <td>SERVED SERVICE Pigst 8.48 MAR-2</td>\n",
       "      <td>/Users/ajay/Documents/Oncampus/TrainingFramewo...</td>\n",
       "      <td>2</td>\n",
       "    </tr>\n",
       "    <tr>\n",
       "      <th>3</th>\n",
       "      <td>A10001331</td>\n",
       "      <td>3</td>\n",
       "      <td>False</td>\n",
       "      <td>https://d1b7k5w7yjwpfg.cloudfront.net/iiif/2/m...</td>\n",
       "      <td>Copied at the National Archives at Kansas City...</td>\n",
       "      <td>/Users/ajay/Documents/Oncampus/TrainingFramewo...</td>\n",
       "      <td>3</td>\n",
       "    </tr>\n",
       "    <tr>\n",
       "      <th>4</th>\n",
       "      <td>A10001331</td>\n",
       "      <td>4</td>\n",
       "      <td>False</td>\n",
       "      <td>https://d1b7k5w7yjwpfg.cloudfront.net/iiif/2/m...</td>\n",
       "      <td>UNITED STATES DEPARTMENT OF JUSTICE Form appro...</td>\n",
       "      <td>/Users/ajay/Documents/Oncampus/TrainingFramewo...</td>\n",
       "      <td>4</td>\n",
       "    </tr>\n",
       "  </tbody>\n",
       "</table>\n",
       "</div>"
      ],
      "text/plain": [
       "       Afile  Page  Is_Redacted  \\\n",
       "0  A10001331     0        False   \n",
       "1  A10001331     1        False   \n",
       "2  A10001331     2        False   \n",
       "3  A10001331     3        False   \n",
       "4  A10001331     4        False   \n",
       "\n",
       "                                                 url  \\\n",
       "0  https://d1b7k5w7yjwpfg.cloudfront.net/iiif/2/m...   \n",
       "1  https://d1b7k5w7yjwpfg.cloudfront.net/iiif/2/m...   \n",
       "2  https://d1b7k5w7yjwpfg.cloudfront.net/iiif/2/m...   \n",
       "3  https://d1b7k5w7yjwpfg.cloudfront.net/iiif/2/m...   \n",
       "4  https://d1b7k5w7yjwpfg.cloudfront.net/iiif/2/m...   \n",
       "\n",
       "                                       Detected Text  \\\n",
       "0  For citation purposes: Records Copied at the N...   \n",
       "1  Name (Last In CAPS) First Middle File No. 150 ...   \n",
       "2                    SERVED SERVICE Pigst 8.48 MAR-2   \n",
       "3  Copied at the National Archives at Kansas City...   \n",
       "4  UNITED STATES DEPARTMENT OF JUSTICE Form appro...   \n",
       "\n",
       "                                       Ocr_Dump_path  idx  \n",
       "0  /Users/ajay/Documents/Oncampus/TrainingFramewo...    0  \n",
       "1  /Users/ajay/Documents/Oncampus/TrainingFramewo...    1  \n",
       "2  /Users/ajay/Documents/Oncampus/TrainingFramewo...    2  \n",
       "3  /Users/ajay/Documents/Oncampus/TrainingFramewo...    3  \n",
       "4  /Users/ajay/Documents/Oncampus/TrainingFramewo...    4  "
      ]
     },
     "execution_count": 7,
     "metadata": {},
     "output_type": "execute_result"
    }
   ],
   "source": [
    "import pandas as pd \n",
    "\n",
    "df = pd.read_csv(\"/Users/ajay/Documents/Oncampus/TrainingFramework/combined_csv.csv\")\n",
    "df.head()"
   ]
  },
  {
   "cell_type": "code",
   "execution_count": 8,
   "metadata": {},
   "outputs": [],
   "source": [
    "dffail = df.iloc[[x[0] for x in ocrfail],:]"
   ]
  },
  {
   "cell_type": "code",
   "execution_count": 9,
   "metadata": {},
   "outputs": [
    {
     "data": {
      "text/html": [
       "<div>\n",
       "<style scoped>\n",
       "    .dataframe tbody tr th:only-of-type {\n",
       "        vertical-align: middle;\n",
       "    }\n",
       "\n",
       "    .dataframe tbody tr th {\n",
       "        vertical-align: top;\n",
       "    }\n",
       "\n",
       "    .dataframe thead th {\n",
       "        text-align: right;\n",
       "    }\n",
       "</style>\n",
       "<table border=\"1\" class=\"dataframe\">\n",
       "  <thead>\n",
       "    <tr style=\"text-align: right;\">\n",
       "      <th></th>\n",
       "      <th>Afile</th>\n",
       "      <th>Page</th>\n",
       "      <th>Is_Redacted</th>\n",
       "      <th>url</th>\n",
       "      <th>Detected Text</th>\n",
       "      <th>Ocr_Dump_path</th>\n",
       "      <th>idx</th>\n",
       "    </tr>\n",
       "  </thead>\n",
       "  <tbody>\n",
       "  </tbody>\n",
       "</table>\n",
       "</div>"
      ],
      "text/plain": [
       "Empty DataFrame\n",
       "Columns: [Afile, Page, Is_Redacted, url, Detected Text, Ocr_Dump_path, idx]\n",
       "Index: []"
      ]
     },
     "execution_count": 9,
     "metadata": {},
     "output_type": "execute_result"
    }
   ],
   "source": [
    "dffail"
   ]
  },
  {
   "cell_type": "markdown",
   "metadata": {},
   "source": [
    "### Add url and document ID, add raw ocr text"
   ]
  },
  {
   "cell_type": "code",
   "execution_count": null,
   "metadata": {},
   "outputs": [],
   "source": [
    "import os \n",
    "import json\n",
    "import pandas as pd \n",
    "\n",
    "# self explanatory \n",
    "def read_json(path):\n",
    "    with open(os.path.join(extracted_output_path,path), 'r') as json_file:\n",
    "        # Load the data from the file\n",
    "        data = json.load(json_file)\n",
    "    return data\n",
    "\n",
    "def get_doc_data(path):\n",
    "    pathsplit = path.split(\"_\")\n",
    "\n",
    "    dev_idx = int(pathsplit[0])\n",
    "    # if 'redacted' in path:\n",
    "    #     newname = '_'.join([pathsplit[1],pathsplit[3]])\n",
    "        \n",
    "    # else:\n",
    "    newname = '_'.join(pathsplit[1:])\n",
    "\n",
    "    afile = newname.split(\"_\")[0]\n",
    "    pno = int(pathsplit[-1].split(\".\")[0])\n",
    "    return newname, afile, dev_idx, pno\n",
    "\n",
    "def write_text_file(path,text):\n",
    "    try:\n",
    "        with open(path, 'w') as file:\n",
    "            file.write(text)\n",
    "    except Exception as e:\n",
    "        print(\"An error occurred:\", str(e),path,text)\n",
    "\n",
    "\n",
    "''' \n",
    "Things to extract:\n",
    "    url\n",
    "    doc_id\n",
    "    afile_number\n",
    "    ocr_text \n",
    "        get the text\n",
    "        store it in a text file in a separate folder\n",
    "        store the path (relative path) as a key\n",
    "'''\n",
    "\n",
    "extracted_output_path = \"/Users/ajay/Documents/Oncampus/TrainingFramework/extracted_metadata/metadata_outputs\"\n",
    "ocr_output_folder = \"/Users/ajay/Documents/Oncampus/TrainingFramework/extracted_metadata/text_ocr\"\n",
    "df = pd.read_csv(\"/Users/ajay/Documents/Oncampus/TrainingFramework/combined_csv.csv\")\n",
    "\n",
    "for path in os.listdir(extracted_output_path):\n",
    "    data = read_json(path)\n",
    "\n",
    "    newname, afile, dev_idx, pno = get_doc_data(path)\n",
    "\n",
    "\n",
    "    data['doc_id'] = newname.split(\".\")[0]\n",
    "    data['afile_number'] = afile\n",
    "    data['dev_idx'] = dev_idx\n",
    "    data['pagenumber'] = pno\n",
    "    data['url'] = df.iloc[dev_idx]['url']\n",
    "    data['is_afile_redacted'] = False\n",
    "    data['is_afile_withdrawn'] = False\n",
    "    ocr_text = df.iloc[dev_idx]['Detected Text']\n",
    "    data['ocr_path'] = os.path.join(\"text_ocr\",newname.split(\".\")[0]+\".txt\")\n",
    "\n",
    "    if isinstance(ocr_text,float):\n",
    "        ocr_text = \"\" # to handle nans\n",
    "    \n",
    "    pathsplit = path.split(\"_\")\n",
    "    if len(pathsplit) >= 4:\n",
    "        if 'redact' in pathsplit[2]:\n",
    "            data['is_afile_redacted'] = True\n",
    "        elif 'withdr' in pathsplit[2]:\n",
    "            data['is_afile_withdrawn'] = True\n",
    "\n",
    "    \n",
    "    \n",
    "\n",
    "    old_name = os.path.join(extracted_output_path, path)\n",
    "    new_name = os.path.join(extracted_output_path, newname)\n",
    "    os.rename(old_name, new_name)\n",
    "    write_text_file(os.path.join(ocr_output_folder, newname.split(\".\")[0]+\".txt\"),ocr_text)\n",
    "\n",
    "    with open(new_name, \"w\") as json_file:\n",
    "        json.dump(data, json_file)\n"
   ]
  },
  {
   "cell_type": "code",
   "execution_count": null,
   "metadata": {},
   "outputs": [
    {
     "name": "stdout",
     "output_type": "stream",
     "text": [
      "{'withdrawal', 'redacted', 'redacted(1)'}\n"
     ]
    }
   ],
   "source": [
    "extracted_output_path = \"/Users/ajay/Documents/Oncampus/TrainingFramework/extracted_metadata/metadata_outputs\"\n",
    "s = set()\n",
    "for path in os.listdir(extracted_output_path):\n",
    "    pathsplit = path.split(\"_\")\n",
    "    if len(pathsplit) >= 4:\n",
    "        s.add(pathsplit[2])\n",
    "\n",
    "print(s)"
   ]
  },
  {
   "cell_type": "code",
   "execution_count": null,
   "metadata": {},
   "outputs": [],
   "source": []
  },
  {
   "cell_type": "markdown",
   "metadata": {},
   "source": [
    "## Final Changes to metadata"
   ]
  },
  {
   "cell_type": "markdown",
   "metadata": {},
   "source": [
    "### Run Certnat (Update it with newer metadata)"
   ]
  },
  {
   "cell_type": "code",
   "execution_count": 2,
   "metadata": {},
   "outputs": [],
   "source": [
    "import os \n",
    "os.environ['OPENAI_API_KEY'] = '########'"
   ]
  },
  {
   "cell_type": "code",
   "execution_count": 3,
   "metadata": {},
   "outputs": [],
   "source": [
    "import json \n",
    "import torch\n",
    "from tqdm import tqdm\n",
    "import sys\n",
    "module_path = \"/Users/ajay/Documents/Oncampus/Deployment_Framework/\"\n",
    "sys.path.append(module_path)\n",
    "from metadata_extraction.run_llm_pipeline import Extraction\n",
    "from classification_models.image.load_classifier import Pretrained_Image_Classifier\n",
    "from misc_techniques import detect_cert_nat\n",
    "from misc_techniques.detect_G325A import detect_g325av5 \n",
    "from misc_techniques import flair_extract\n",
    "from metadata_extraction.run_llm_pipeline import Extraction\n",
    "from classification_models.image.load_classifier import Pretrained_Image_Classifier\n",
    "import pandas as pd \n",
    "# import os\n",
    "\n",
    "\n"
   ]
  },
  {
   "cell_type": "code",
   "execution_count": 4,
   "metadata": {},
   "outputs": [],
   "source": [
    "pathtojson = \"/Users/ajay/Documents/Oncampus/TrainingFramework/extracted_metadata/metadata_outputs\"\n"
   ]
  },
  {
   "cell_type": "code",
   "execution_count": 5,
   "metadata": {},
   "outputs": [],
   "source": [
    "def read_json(path):\n",
    "    with open(os.path.join(pathtojson,path), 'r') as json_file:\n",
    "        # Load the data from the file\n",
    "        data = json.load(json_file)\n",
    "    return data\n",
    "\n",
    "def read_text(path):\n",
    "    with open(os.path.join(\"/Users/ajay/Documents/Oncampus/TrainingFramework/extracted_metadata\",path), 'r') as file:\n",
    "        # Read the entire contents of the file\n",
    "        contents = file.read()\n",
    "    return contents"
   ]
  },
  {
   "cell_type": "code",
   "execution_count": 6,
   "metadata": {},
   "outputs": [],
   "source": [
    "for path in os.listdir(pathtojson):\n",
    "    data = read_json(path)\n",
    "    if data.get('is_cert_naturalization',False):\n",
    "        certnat = data"
   ]
  },
  {
   "cell_type": "code",
   "execution_count": null,
   "metadata": {},
   "outputs": [],
   "source": []
  },
  {
   "cell_type": "code",
   "execution_count": 7,
   "metadata": {},
   "outputs": [
    {
     "data": {
      "text/plain": [
       "25347"
      ]
     },
     "execution_count": 7,
     "metadata": {},
     "output_type": "execute_result"
    }
   ],
   "source": [
    "os.listdir(pathtojson).index(path)"
   ]
  },
  {
   "cell_type": "code",
   "execution_count": null,
   "metadata": {},
   "outputs": [],
   "source": [
    "ext_class = Extraction(\"./metadata_extraction/configs/fewshot_certnat.cfg\", \"./metadata_extraction/configs/examples_certnat.yml\")\n",
    "for path in os.listdir(pathtojson)[20235:]:\n",
    "    data = read_json(path)\n",
    "    if \"is_g325a\" not in data:\n",
    "        data['is_g325a'] = False \n",
    "    if \"is_cert_naturalization\" not in data:\n",
    "        data['is_cert_naturalization'] = False\n",
    "    if \"g325a_attributes\" not in data:\n",
    "        data['g325a_attributes'] = {}\n",
    "    if \"cert_naturalization_attributes\" not in data:\n",
    "        data['cert_naturalization_attributes'] = {}\n",
    "    if data.get('is_cert_naturalization',False):\n",
    "        # g325adata = data\n",
    "        text = read_text(data['ocr_path'])\n",
    "        output = ext_class.extract_metadata(f\"\"\"{text}\"\"\")\n",
    "        metadata = {}\n",
    "        for k,v in output.items():\n",
    "            metadata[f\"LLM_{k}\"] = v \n",
    "        data['cert_naturalization_attributes'] = {} \n",
    "        data['cert_naturalization_attributes'] = metadata\n",
    "\n",
    "    json.dump(data, open(os.path.join(pathtojson,path), 'w'), indent=4)\n",
    "    \n"
   ]
  },
  {
   "cell_type": "code",
   "execution_count": null,
   "metadata": {},
   "outputs": [],
   "source": [
    "metadata = {}\n",
    "for k,v in output.items():\n",
    "    metadata[f\"LLM_{k}\"] = v \n",
    "g325adata['cert_naturalization_attributes'] = {} \n",
    "g325adata['cert_naturalization_attributes'] = metadata"
   ]
  },
  {
   "cell_type": "code",
   "execution_count": null,
   "metadata": {},
   "outputs": [
    {
     "data": {
      "text/plain": [
       "{'document_type': 'letter',\n",
       " 'is_cert_naturalization': True,\n",
       " 'g325a_attributes': {},\n",
       " 'is_g325a': False,\n",
       " 'countries': ['United States', 'Cuba'],\n",
       " 'years': ['1970', '1903'],\n",
       " 'doc_id': 'A12495368_0008',\n",
       " 'afile_number': 'A12495368',\n",
       " 'dev_idx': 2665,\n",
       " 'pagenumber': 8,\n",
       " 'url': 'https://d1b7k5w7yjwpfg.cloudfront.net/iiif/2/migrants-state_A12495368_0008/full/full/0/default.jpg',\n",
       " 'is_afile_redacted': False,\n",
       " 'is_afile_withdrawn': False,\n",
       " 'ocr_path': 'text_ocr/A12495368_0008.txt',\n",
       " 'cert_naturalization_attributes': {'LLM_NUMBER': ['9264028'],\n",
       "  'LLM_DATE_OF_BIRTH': ['December 26', '1903'],\n",
       "  'LLM_SEX': ['female'],\n",
       "  'LLM_COMPLEXION': ['fair'],\n",
       "  'LLM_COLOR_OF_EYES': ['brown'],\n",
       "  'LLM_WEIGHT': ['170 pounds'],\n",
       "  'LLM_VISIBILE_DISTINCTIVE_MARKS': ['none'],\n",
       "  'LLM_MARITAL_STATUS': ['married'],\n",
       "  'LLM_FORMER_NATIONALITY': ['Cuba'],\n",
       "  'LLM_NATURALIZATION_COUNTRY': ['UNITED STATES', 'United States'],\n",
       "  'LLM_NATURALIZATION_MUNICIPALITY': ['Miami'],\n",
       "  'LLM_NATURALIZATION_STATE': ['Florida'],\n",
       "  'LLM_DATE_OF_NATURALIZATION': ['1970', 'February 3'],\n",
       "  'LLM_NAME_AT_NATURALIZATION': ['MARIA ANA CUNILL'],\n",
       "  'LLM_LLM_NUMBER': ['9264028']}}"
      ]
     },
     "metadata": {},
     "output_type": "display_data"
    }
   ],
   "source": [
    "g325adata"
   ]
  },
  {
   "cell_type": "code",
   "execution_count": null,
   "metadata": {},
   "outputs": [
    {
     "name": "stdout",
     "output_type": "stream",
     "text": [
      "----OLD--------\n",
      "https://d1b7k5w7yjwpfg.cloudfront.net/iiif/2/migrants-state_A12495368_0008/full/full/0/default.jpg\n",
      "{'document_type': 'letter', 'is_cert_naturalization': True, 'g325a_attributes': {}, 'is_g325a': False, 'countries': ['United States', 'Cuba'], 'years': ['1970', '1903'], 'doc_id': 'A12495368_0008', 'afile_number': 'A12495368', 'dev_idx': 2665, 'pagenumber': 8, 'url': 'https://d1b7k5w7yjwpfg.cloudfront.net/iiif/2/migrants-state_A12495368_0008/full/full/0/default.jpg', 'is_afile_redacted': False, 'is_afile_withdrawn': False, 'ocr_path': 'text_ocr/A12495368_0008.txt'}\n",
      "----NEW--------\n",
      "{'NUMBER': ['9264028'], 'DATE_OF_BIRTH': ['December 26', '1903'], 'SEX': ['female'], 'COMPLEXION': ['fair'], 'COLOR_OF_EYES': ['brown'], 'WEIGHT': ['170 pounds'], 'VISIBILE_DISTINCTIVE_MARKS': ['none'], 'MARITAL_STATUS': ['married'], 'FORMER_NATIONALITY': ['Cuba'], 'NATURALIZATION_COUNTRY': ['UNITED STATES', 'United States'], 'NATURALIZATION_MUNICIPALITY': ['Miami'], 'NATURALIZATION_STATE': ['Florida'], 'DATE_OF_NATURALIZATION': ['February 3', '1970'], 'NAME_AT_NATURALIZATION': ['MARIA ANA CUNILL']}\n"
     ]
    }
   ],
   "source": [
    "ext_class = Extraction(\"./metadata_extraction/configs/fewshot_certnat.cfg\", \"./metadata_extraction/configs/examples_certnat.yml\")\n",
    "\n",
    "for path in os.listdir(pathtojson):\n",
    "    data = read_json(path)\n",
    "    if data.get('is_cert_naturalization',False):\n",
    "        g325adata = data\n",
    "        text = read_text(g325adata['ocr_path'])\n",
    "        output = ext_class.extract_metadata(f\"\"\"{text}\"\"\")\n",
    "        print(\"----OLD--------\")\n",
    "        print(data['url'])\n",
    "        print(data)\n",
    "        print(\"----NEW--------\")\n",
    "        print(output)\n",
    "        break"
   ]
  },
  {
   "cell_type": "code",
   "execution_count": null,
   "metadata": {},
   "outputs": [
    {
     "data": {
      "text/plain": [
       "\"CA TO BE FORWARDED TO No. 9264028 IMMIGRATION AND INATURALIZATION SERVICE 1 Petition No. 46,641 DUPLICATE AlienRegistration No. A-12 495 368 Personal,description of holder's of date of naturalization: Date of birth December 26, 1903 sex female ; complexion fair coloroferies brown color of hair brown height 5 feel 7 inches; weight 170 pounds; visible distinctive marks none Maritalstatus married Country of formernationality Cuba I certify that the description above given is brive, and ephotograph.offixed, hereto is, a likeness of me < Haux Hn Cumll ( Complete and true signature of holder) THE UNITED STATES OF AMERICA SOUTHERN DI STRICT OF FLORI DA } SS: Beit known, that at a termofthe District the United States Court of held/pursuantio lawal Miami, Florida on February 3, 1970 the Court shavingfoundshall MARIA ANA CUNILL then residing at Miami, Florida inlends loreside permanentlyin, the United. States when sorequired, by the naturalization Laws of he United States), had in all thererespects, complied with the applicable provisions of such naturalization laws, and was entitled tobe Seal admilled docitizenship. thereupon ordered that such person be and(s)hewas admilled as a citizen of the United States of America. Intestimony whereof thesealofthe, courtis hereunto afficced this 3rd day of February in theyearsfours. Lord nineleen hundred and seventy Joseph I. Bogart Clerk of the U.S. District Court. IT IS A VIOLATION OF THE U. S. CODE (AND PUNISHABLE AS SUCH) TO COPY, PRINT. PHOTOGRAPH. OR OTHERWISE ILLEGALLY USE THIS CERTIFICATE. By John L. Taille Deputy Clerk.\""
      ]
     },
     "metadata": {},
     "output_type": "display_data"
    }
   ],
   "source": [
    "text"
   ]
  },
  {
   "cell_type": "code",
   "execution_count": null,
   "metadata": {},
   "outputs": [
    {
     "data": {
      "text/plain": [
       "'THE TO BE FORWARDED TO No. 8806431 IMMIGRATION AND INATURALIZATION SERVICE Petition No. 65010 DUPLICATE Personal description, of holderas, of date of naturalization: Date of birth January 25, 1909 sex female ; complexion medium coloroleyes brown color of hair grey height 5 feet 4 inches; weight 117 pounds; visibledistincine marks none Maritalstatus widowed Country of formernationality Hungary I certify that the description, above given is true, and that,She ephotographs affixed, hereto, is a likeness of me. Room Toth ( Complete and true signature of holder) UNITED STATES OF AMERICA } SS: WESTERN DISTRICT OF NEW YORK Beit known, that at a termolthe District Court,of The United States, Western District of New York held pursuantlo lawal Buffalo, N. Y. on May 6th, 1965 the Court havingfoundshal ROSA TOTA then residing at 2148 Main Street, Buffalo, New York - 14214 inlends loreside permanently in the United. States when sorequired by the Rosa Toth Naturalization Laws ofthe United States), had in all other respects, complied with the applicable provisions of such nativalization laws, and was entitled to be Seal admitted docilizenship, thereupon ordered that such person be and us)hewas admilled as a citizen of the United States of America. Indestimony whereof thesealos, the court is hereunto, affixced this 6th day of May in the year four Lord nineteen hundred and sixty-five ROLAND E. LOGEL Clerk of the U.S. District Court. IT IS A VIOLATION OF THE U. S. CODE (AND PUNISHABLE AS SUCH) TO COPY. PRINT. PHOTOGRAPH. OR OTHERWISE ILLEGALLY USE THIS CERTIFICATE. By arice morning Deputy Clerk.'"
      ]
     },
     "metadata": {},
     "output_type": "display_data"
    }
   ],
   "source": [
    "df[df['url']=='https://d1b7k5w7yjwpfg.cloudfront.net/iiif/2/migrants-state_A10009114_0000/full/full/0/default.jpg'].iloc[0]['Detected Text']"
   ]
  },
  {
   "cell_type": "markdown",
   "metadata": {},
   "source": [
    "### G325A"
   ]
  },
  {
   "cell_type": "markdown",
   "metadata": {},
   "source": [
    "Adding new keys to the files"
   ]
  },
  {
   "cell_type": "code",
   "execution_count": null,
   "metadata": {},
   "outputs": [
    {
     "data": {
      "text/plain": [
       "' \\nread the json\\nsave extracted ouptut to new json and then compare both (do old, new)\\n'"
      ]
     },
     "metadata": {},
     "output_type": "display_data"
    }
   ],
   "source": [
    "''' \n",
    "read the json\n",
    "save extracted ouptut to new json and then compare both (do old, new)\n",
    "'''"
   ]
  },
  {
   "cell_type": "code",
   "execution_count": null,
   "metadata": {},
   "outputs": [
    {
     "data": {
      "text/plain": [
       "({'document_type': 'misc',\n",
       "  'doc_id': 'A18029489_0048',\n",
       "  'afile_number': 'A18029489',\n",
       "  'dev_idx': 6486,\n",
       "  'pagenumber': 48,\n",
       "  'url': 'https://d1b7k5w7yjwpfg.cloudfront.net/iiif/2/migrants-state_A18029489_0048/full/full/0/default.jpg',\n",
       "  'is_afile_redacted': False,\n",
       "  'is_afile_withdrawn': False,\n",
       "  'ocr_path': 'text_ocr/A18029489_0048.txt'},\n",
       " 'A18029489_0048.json')"
      ]
     },
     "metadata": {},
     "output_type": "display_data"
    }
   ],
   "source": [
    "data,path"
   ]
  },
  {
   "cell_type": "code",
   "execution_count": null,
   "metadata": {},
   "outputs": [],
   "source": [
    "for path in os.listdir(pathtojson):\n",
    "    data = read_json(path)\n",
    "    if data.get('is_g325a',False):\n",
    "        g325adata = data"
   ]
  },
  {
   "cell_type": "code",
   "execution_count": null,
   "metadata": {},
   "outputs": [
    {
     "data": {
      "text/plain": [
       "{'document_type': 'form',\n",
       " 'is_cert_naturalization': False,\n",
       " 'g325a_attributes': {'LLM_FORM_NUMBER': ['G-325A'],\n",
       "  'LLM_REVISION_DATE': ['6/7/2023'],\n",
       "  'LLM_OMB_NUMBER': ['1115-0066'],\n",
       "  'LLM_COUNTRY': ['Honduras', 'USA'],\n",
       "  'LLM_OCCUPATION': ['NONE', 'none'],\n",
       "  'LLM_STATE_CITY': ['San Pedro Sula', 'Newburgh N.Y.', 'Cortez']},\n",
       " 'is_g325a': True,\n",
       " 'countries': ['United States', 'Honduras'],\n",
       " 'years': ['1988', '1907', '1971', '2023'],\n",
       " 'doc_id': 'A29089715_redacted_0046',\n",
       " 'afile_number': 'A29089715',\n",
       " 'dev_idx': 13573,\n",
       " 'pagenumber': 46,\n",
       " 'url': 'https://d1b7k5w7yjwpfg.cloudfront.net/iiif/2/migrants-state_A29089715_redacted_0046/full/full/0/default.jpg',\n",
       " 'is_afile_redacted': True,\n",
       " 'is_afile_withdrawn': False,\n",
       " 'ocr_path': 'text_ocr/A29089715_redacted_0046.txt'}"
      ]
     },
     "metadata": {},
     "output_type": "display_data"
    }
   ],
   "source": [
    "g325adata"
   ]
  },
  {
   "cell_type": "code",
   "execution_count": null,
   "metadata": {},
   "outputs": [],
   "source": [
    "text = read_text(g325adata['ocr_path'])"
   ]
  },
  {
   "cell_type": "code",
   "execution_count": null,
   "metadata": {},
   "outputs": [
    {
     "data": {
      "text/plain": [
       "\"Screened bv NARA 7/28/2023 INSTRUCTIONS. USE TYPEWRITER. BE SURE ALL COPIES ARE LEGIBLE. Failure to answer fully all questions delays action. 04255 Do Not Remove Carbons: If type er is not available, print heavily in block letters n ball-point pen. *U.S. GPO: 1986-155-463 For sale by the Superintendent of Documents. U.S. Government Printing Office. Washington. D.C. 20402 (Per 100) U.S. Department of Justice FORM G-325A OMB No. 1115-0066 Immigration and Naturalization Service BIOGRAPHIC INFORMATION Approval expires 4-30-85 (Family name) (First name) (Middle name) MALE BIRTHDATE (Mo.-Day-Yr.) NATIONALITY FILE NUMBER NOLASCO-Vda. Sanchez, ISABEL FEMALE 06-17-12 Salvadorean A- ALL OTHER NAMES USED (Including names by previous marriages) CITY AND COUNTRY OF BIRTH SOCIAL SECURITY NO. Isabel Nolasco San Salvador, E1 Salvador (If any) FAMILY NAME FIRST NAME DATE, CITY AND COUNTRY OF BIRTH (If known) CITY AND COUNTRY OF RESIDENCE FATHER Nolasco, Prudencio Unkn. E1 Salvador Deceased MOTHER (Maiden name) Ramirez, Doloras Unkn. E1 Salvador Deceased HUSBAND (If none, SO state) FAMILY NAME FIRST NAME BIRTHDATE CITY & COUNTRY OF BIRTH DATE OF MARRIAGE PLACE OF MARRIAGE OR (For wife, give maiden name) WIFE NONE FORMER HUSBANDS OR WIVES (if none, so state) FAMILY NAME (For wife, give maiden name) FIRST NAME BIRTHDATE DATE & PLACE OF MARRIAGE DATE AND PLACE OF TERMINATION OF MARRIAGE Sanchez Enedino 1899 9-21-30 E1 Salvador 10-9-79 El Salvador APPLICANT'S RESIDENCE LAST FIVE YEARS. LIST PRESENT ADDRESS FIRST. FROM TO STREET AND NUMBER CITY PROVINCE OR STATE COUNTRY MONTH YEAR MONTH YEAR 3538 Percy St., Los Angeles, California U.S.A. 01 90 PRESENT TIME Calle 15 de Septiembre # 140, San Marcos, San Salvador, E1 Salvador 60 01 90 APPLICANT'S LAST ADDRESS OUTSIDE THE UNITED STATES OF MORE THAN ONE YEAR FROM TO STREET AND NUMBER CITY PROVINCE OR STATE COUNTRY MONTH YEAR MONTH YEAR Same as above APPLICANT'S EMPLOYMENT LAST FIVE YEARS. (IF NONE, so STATE.) LIST PRESENT EMPLOYMENT FIRST FROM TO FULL NAME AND ADDRESS OF EMPLOYER OCCUPATION (SPECIFY) MONTH YEAR MONTH YEAR NONE Homechores 01 90 PRESENT TIME NONE Housewife 60 01 90 Show below last occupation abroad if not shown above. (Include all information requested above.) Same as above THIS FORM IS SUBMITTED IN CONNECTION WITH APPLICATION FOR: SIGNATURE OF APPLICANT DATE NATURALIZATION STATUS AS PERMANENT RESIDENT OTHER (SPECIFY): YOUR Osabel NATIVE ALPHABET nolesco IS OTHER de ROMAN Sanche 3/17/90 IF IN THAN LETTERS, WRITE YOUR NAME IN YOUR NATIVE ALPHABET IN THIS SPACE: Are all copies legible? Yes None PENALTIES: SEVERE PENALTIES ARE PROVIDED BY LAW FOR KNOWINGLY AND WILLFULLY FALSIFYING OR CONCEALING A MATERIAL FACT. APPLICANT: BE SURE TO PUT YOUR NAME AND ALIEN REGISTRATION NUMBER IN THE BOX OUTLINED BY HEAVY BORDER BELOW. COMPLETE THIS BOX (Family name) (Given name) (Middle name) (Alien registration number) NOLASCO-Vda. de SANCHEZ, ISABEL Form G-325 (Rev. 10-1-82) (I) IDENT.\""
      ]
     },
     "metadata": {},
     "output_type": "display_data"
    }
   ],
   "source": [
    "url = \"https://d1b7k5w7yjwpfg.cloudfront.net/iiif/2/migrants-state_A70022932_redacted_0020/full/full/0/default.jpg\" \n",
    "df = pd.read_csv(\"/Users/ajay/Documents/Oncampus/TrainingFramework/combined_csv.csv\")\n",
    "df[df['url']==url].iloc[0]['Detected Text']"
   ]
  },
  {
   "cell_type": "code",
   "execution_count": null,
   "metadata": {},
   "outputs": [],
   "source": [
    "ext_class = Extraction(\"./metadata_extraction/configs/fewshot_v2.cfg\", \"./metadata_extraction/configs/examples_g325a_2.yml\")\n"
   ]
  },
  {
   "cell_type": "code",
   "execution_count": null,
   "metadata": {},
   "outputs": [],
   "source": [
    "for path in os.listdir(pathtojson):\n",
    "    data = read_json(path)\n",
    "    if data.get('is_g325a',False):\n",
    "        g325adata = data\n",
    "        output = ext_class.extract_metadata(f\"\"\"{text}\"\"\")"
   ]
  },
  {
   "cell_type": "code",
   "execution_count": null,
   "metadata": {},
   "outputs": [
    {
     "name": "stdout",
     "output_type": "stream",
     "text": [
      "----OLD--------\n",
      "https://d1b7k5w7yjwpfg.cloudfront.net/iiif/2/migrants-state_A21130830_0020/full/full/0/default.jpg\n",
      "{'LLM_FORM_NUMBER': ['G-325A'], 'LLM_REVISION_DATE': ['REV. 10-1-74'], 'LLM_OMB_NUMBER': ['43-R436'], 'LLM_NATIONALITY': ['Cuban'], 'LLM_STATE_CITY': ['N.Y.', 'Miami Fla', 'Hav Cuba', 'Miami Beach Fla'], 'LLM_EMPLOYER_ADDRESS': ['2001 CollinsAve Room 405'], 'LLM_COUNTRY': ['USA'], 'LLM_EMPLOYER': ['Biscaya'], 'LLM_OCCUPATION': ['Retiremant Residence']}\n",
      "----NEW--------\n",
      "{'FORM_NUMBER': ['G-325A'], 'REVISION_DATE': ['REV. 10-1-74'], 'OMB_NUMBER': ['43-R436'], 'NATIONALITY': ['Cuban'], 'PARENT_STATE_CITY': ['Hav Cuba', 'N.Y.'], 'MARRIAGE_DATE': ['2/7/07'], 'MARRIAGE_TERMINATION_DATE': ['1/12/73'], 'STATE_CITY': ['Miami Beach', 'Fla USA', 'Miami', 'Fla'], 'EMPLOYER': ['Biscaya'], 'OCCUPATION': ['Retiremant Residence']}\n"
     ]
    }
   ],
   "source": [
    "for path in os.listdir(pathtojson):\n",
    "    data = read_json(path)\n",
    "    if data.get('is_g325a',False):\n",
    "        g325adata = data\n",
    "        text = read_text(g325adata['ocr_path'])\n",
    "        output = ext_class.extract_metadata(f\"\"\"{text}\"\"\")\n",
    "        print(\"----OLD--------\")\n",
    "        print(g325adata['url'])\n",
    "        print(g325adata[\"g325a_attributes\"])\n",
    "        print(\"----NEW--------\")\n",
    "        print(output)\n",
    "        break"
   ]
  },
  {
   "cell_type": "code",
   "execution_count": null,
   "metadata": {},
   "outputs": [
    {
     "data": {
      "text/plain": [
       "{'FORM_NUMBER': ['G-325A'],\n",
       " 'REVISION_DATE': ['REV. 8-27-'],\n",
       " 'OMB_NUMBER': ['43-R436'],\n",
       " 'NATIONALITY': ['Indian'],\n",
       " 'PARENT_STATE_CITY': ['Hydrebad', 'Sindh'],\n",
       " 'EMPLOYER': ['None', 'NONE', 'none'],\n",
       " 'PARENT_COUNTRY': ['Pakistan'],\n",
       " 'MARRIAGE_DATE': ['2-28-40'],\n",
       " 'STATE_CITY': ['L. A.', 'Poona Maharastra India'],\n",
       " 'OCCUPATION': ['Self Employed']}"
      ]
     },
     "metadata": {},
     "output_type": "display_data"
    }
   ],
   "source": [
    "text = df[df['url']=='https://d1b7k5w7yjwpfg.cloudfront.net/iiif/2/migrants-state_A20550522_redacted_0154/full/full/0/default.jpg'].iloc[0]['Detected Text']\n",
    "output = ext_class.extract_metadata(f\"\"\"{text}\"\"\")\n",
    "output"
   ]
  },
  {
   "cell_type": "code",
   "execution_count": null,
   "metadata": {},
   "outputs": [
    {
     "data": {
      "text/plain": [
       "{'FORM_NUMBER': ['G-325A'],\n",
       " 'REVISION_DATE': ['REV. 8-27-'],\n",
       " 'OMB_NUMBER': ['43-R436'],\n",
       " 'NATIONALITY': ['Indian'],\n",
       " 'STATE_CITY': ['Hydrebad', 'Poona Maharastra', 'Sindh', 'L. A.'],\n",
       " 'EMPLOYER': ['None', 'NONE', 'none'],\n",
       " 'COUNTRY': ['India', 'Pakistan'],\n",
       " 'OCCUPATION': ['Self Employed']}"
      ]
     },
     "metadata": {},
     "output_type": "display_data"
    }
   ],
   "source": [
    "text = df[df['url']=='https://d1b7k5w7yjwpfg.cloudfront.net/iiif/2/migrants-state_A20550522_redacted_0154/full/full/0/default.jpg'].iloc[0]['Detected Text']\n",
    "output = ext_class.extract_metadata(f\"\"\"{text}\"\"\")\n",
    "output"
   ]
  },
  {
   "cell_type": "markdown",
   "metadata": {},
   "source": [
    "Not using new metadata schema for G325A because of lesser accuracy"
   ]
  },
  {
   "cell_type": "code",
   "execution_count": null,
   "metadata": {},
   "outputs": [],
   "source": []
  }
 ],
 "metadata": {
  "kernelspec": {
   "display_name": "mats2",
   "language": "python",
   "name": "python3"
  },
  "language_info": {
   "codemirror_mode": {
    "name": "ipython",
    "version": 3
   },
   "file_extension": ".py",
   "mimetype": "text/x-python",
   "name": "python",
   "nbconvert_exporter": "python",
   "pygments_lexer": "ipython3",
   "version": "3.8.18"
  },
  "orig_nbformat": 4
 },
 "nbformat": 4,
 "nbformat_minor": 2
}
